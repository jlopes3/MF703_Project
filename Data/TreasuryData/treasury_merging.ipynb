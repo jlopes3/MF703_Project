{
 "cells": [
  {
   "cell_type": "code",
   "execution_count": 20,
   "metadata": {},
   "outputs": [],
   "source": [
    "import pandas as pd\n",
    "import os\n",
    "from functools import reduce"
   ]
  },
  {
   "cell_type": "code",
   "execution_count": null,
   "metadata": {},
   "outputs": [
    {
     "name": "stdout",
     "output_type": "stream",
     "text": [
      "            Date  GT30 GOVT 11_15_54 Close\n",
      "0     2024-11-12                     4.554\n",
      "1     2024-11-08                     4.471\n",
      "2     2024-11-07                     4.531\n",
      "3     2024-11-06                     4.612\n",
      "4     2024-11-05                     4.436\n",
      "...          ...                       ...\n",
      "8414  1991-03-21                     8.329\n",
      "8415  1991-03-20                     8.343\n",
      "8416  1991-03-19                     8.403\n",
      "8417  1991-03-18                     8.332\n",
      "8418  1991-03-15                     8.288\n",
      "\n",
      "[8419 rows x 2 columns]\n",
      "            Date  GT30 GOVT 11_15_54 Close  GT 10 GOVT 11_15_34 Close  \\\n",
      "0     2024-11-12                     4.554                      4.397   \n",
      "1     2024-11-08                     4.471                      4.305   \n",
      "2     2024-11-07                     4.531                      4.328   \n",
      "3     2024-11-06                     4.612                      4.433   \n",
      "4     2024-11-05                     4.436                      4.273   \n",
      "...          ...                       ...                        ...   \n",
      "1114  2020-05-28                     1.453                      0.692   \n",
      "1115  2020-05-27                     1.441                      0.683   \n",
      "1116  2020-05-26                     1.446                      0.698   \n",
      "1117  2020-05-22                     1.372                      0.660   \n",
      "1118  2020-05-21                     1.387                      0.673   \n",
      "\n",
      "      GT 5 GOVT 10_31_29 Close  GT20 GOVT 08_15_2044 Close  \\\n",
      "0                        4.295                       4.667   \n",
      "1                        4.192                       4.581   \n",
      "2                        4.172                       4.632   \n",
      "3                        4.275                       4.714   \n",
      "4                        4.150                       4.559   \n",
      "...                        ...                         ...   \n",
      "1114                     0.339                       1.209   \n",
      "1115                     0.349                       1.197   \n",
      "1116                     0.349                       1.200   \n",
      "1117                     0.335                       1.123   \n",
      "1118                     0.339                       1.154   \n",
      "\n",
      "      GB06 GOVT 05_08_25 Close  GB12 GOVT  10_30_25  Close  \n",
      "0                        4.468                       4.371  \n",
      "1                        4.445                       4.308  \n",
      "2                        4.416                       4.265  \n",
      "3                        4.437                       4.315  \n",
      "4                        4.418                       4.252  \n",
      "...                        ...                         ...  \n",
      "1114                     0.166                       0.173  \n",
      "1115                     0.169                       0.180  \n",
      "1116                     0.148                       0.166  \n",
      "1117                     0.147                       0.162  \n",
      "1118                     0.145                       0.157  \n",
      "\n",
      "[1119 rows x 7 columns]\n"
     ]
    }
   ],
   "source": [
    "xlsx_files = [(\"Raw/\" + file, file.split('.')[0]) for file in os.listdir(\"Raw\") if file.endswith('.xlsx')]\n",
    "csv_files = [(\"Raw/\"+ file, file.split('.')[0]) for file in os.listdir(\"Raw\") if file.endswith('.csv')]\n",
    "\n",
    "xlsx_dfs = []\n",
    "csv_dfs = []\n",
    "\n",
    "if len(xlsx_files) != 0:\n",
    "    xlsx_dfs = list(map(lambda x: pd.read_excel(x[0]).filter(['Date', 'Close']).rename(columns={'Close': x[1] + \" Close\"}, inplace=False), xlsx_files))\n",
    "if len(csv_files) != 0:\n",
    "    csv_dfs = list(map(lambda x: pd.read_csv(x[0]).filter(['Date', 'Close']).rename(columns={'Close': x[1] + \" Close\"}, inplace=False), csv_files))\n",
    "print(csv_dfs[0])\n",
    "dfs = xlsx_dfs + csv_dfs\n",
    "\n",
    "merged_df = reduce(lambda x, y: pd.merge(x, y, how='inner', on=\"Date\"), dfs)\n",
    "merged_df.to_csv(\"cleaned_treasury_data.csv\", index=True, header=True)\n"
   ]
  }
 ],
 "metadata": {
  "kernelspec": {
   "display_name": "Python 3",
   "language": "python",
   "name": "python3"
  },
  "language_info": {
   "codemirror_mode": {
    "name": "ipython",
    "version": 3
   },
   "file_extension": ".py",
   "mimetype": "text/x-python",
   "name": "python",
   "nbconvert_exporter": "python",
   "pygments_lexer": "ipython3",
   "version": "3.13.0"
  }
 },
 "nbformat": 4,
 "nbformat_minor": 2
}
