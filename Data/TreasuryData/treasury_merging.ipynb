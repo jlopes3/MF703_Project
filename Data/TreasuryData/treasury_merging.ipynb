{
 "cells": [
  {
   "cell_type": "code",
   "execution_count": 3,
   "metadata": {},
   "outputs": [],
   "source": [
    "import pandas as pd\n",
    "import os\n",
    "from functools import reduce"
   ]
  },
  {
   "cell_type": "code",
   "execution_count": 4,
   "metadata": {},
   "outputs": [
    {
     "name": "stdout",
     "output_type": "stream",
     "text": [
      "            Date  GT 10 GOVT 11_15_34 Close\n",
      "0     2024-11-12                      4.397\n",
      "1     2024-11-08                      4.305\n",
      "2     2024-11-07                      4.328\n",
      "3     2024-11-06                      4.433\n",
      "4     2024-11-05                      4.273\n",
      "...          ...                        ...\n",
      "8413  1991-03-21                      8.139\n",
      "8414  1991-03-20                      8.167\n",
      "8415  1991-03-19                      8.234\n",
      "8416  1991-03-18                      8.144\n",
      "8417  1991-03-15                      8.094\n",
      "\n",
      "[8418 rows x 2 columns]\n"
     ]
    }
   ],
   "source": [
    "xlsx_files = [(\"Raw/\" + file, file.split('.')[0]) for file in os.listdir(\"Raw\") if file.endswith('.xlsx')]\n",
    "csv_files = [(\"Raw/\"+ file, file.split('.')[0]) for file in os.listdir(\"Raw\") if file.endswith('.csv')]\n",
    "\n",
    "xlsx_dfs = []\n",
    "csv_dfs = []\n",
    "\n",
    "if len(xlsx_files) != 0:\n",
    "    xlsx_dfs = list(map(lambda x: pd.read_excel(x[0]).filter(['Date', 'Close']).rename(columns={'Close': x[1] + \" Close\"}, inplace=False), xlsx_files))\n",
    "if len(csv_files) != 0:\n",
    "    csv_dfs = list(map(lambda x: pd.read_csv(x[0]).filter(['Date', 'Close']).rename(columns={'Close': x[1] + \" Close\"}, inplace=False), csv_files))\n",
    "print(csv_dfs[0])\n",
    "dfs = xlsx_dfs + csv_dfs\n",
    "\n",
    "merged_df = reduce(lambda x, y: pd.merge(x, y, how='inner', on=\"Date\"), dfs)\n",
    "merged_df.to_csv(\"cleaned_treasury_data.csv\", index=True, header=True)\n"
   ]
  },
  {
   "cell_type": "code",
   "execution_count": null,
   "metadata": {},
   "outputs": [],
   "source": []
  }
 ],
 "metadata": {
  "kernelspec": {
   "display_name": "base",
   "language": "python",
   "name": "python3"
  },
  "language_info": {
   "codemirror_mode": {
    "name": "ipython",
    "version": 3
   },
   "file_extension": ".py",
   "mimetype": "text/x-python",
   "name": "python",
   "nbconvert_exporter": "python",
   "pygments_lexer": "ipython3",
   "version": "3.12.4"
  }
 },
 "nbformat": 4,
 "nbformat_minor": 2
}
