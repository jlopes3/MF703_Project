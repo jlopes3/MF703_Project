{
 "cells": [
  {
   "cell_type": "markdown",
   "metadata": {},
   "source": [
    "This file is used to clean the raw futures data using forward filling. The cleaned data is written to individual csv files in the Cleaned folder and a merged file is written to merged_cleaned_futures_data.csv ."
   ]
  },
  {
   "cell_type": "code",
   "execution_count": 1,
   "metadata": {},
   "outputs": [],
   "source": [
    "import pandas as pd\n",
    "import os\n",
    "from functools import reduce\n",
    "\n",
    "xlsx_files = [(\"Raw/\" + file, file.split('.')[0]) for file in os.listdir(\"Raw\") if file.endswith('.xlsx')]\n",
    "csv_files = [(\"Raw/\"+ file, file.split('.')[0]) for file in os.listdir(\"Raw\") if file.endswith('.csv')]\n",
    "\n",
    "xlsx_dfs = []\n",
    "csv_dfs = []\n",
    "\n",
    "if len(xlsx_files) != 0:\n",
    "    xlsx_dfs = list(map(lambda x: pd.read_excel(x[0]).drop('PX_BID', axis=1).ffill().rename(columns={'PX_LAST': x[1] + \" LAST\"}, inplace=False).dropna(), xlsx_files))\n",
    "    for file, name in xlsx_files:\n",
    "        pd.read_excel(file).drop('PX_BID', axis=1).ffill().dropna().to_csv(\"Cleaned/\"+name+\".csv\", index=True, header=True)\n",
    "\n",
    "if len(csv_files) != 0:\n",
    "    csv_dfs = list(map(lambda x: pd.read_csv(x[0]).drop('PX_BID', axis=1).ffill().rename(columns={'PX_LAST': x[1] + \" LAST\"}, inplace=False).dropna(), csv_files))\n",
    "    for file, name in xlsx_files:\n",
    "        pd.read_csv(file).drop('PX_BID', axis=1).ffill().dropna().to_csv(\"Cleaned/\"+name+\".csv\", index=True, header=True)\n",
    "dfs = xlsx_dfs + csv_dfs\n",
    "\n",
    "\n",
    "merged_df = reduce(lambda x, y: pd.merge(x, y, how='inner', on=\"Date\"), dfs)\n",
    "merged_df.to_csv(\"merged_cleaned_futures_data.csv\", index=True, header=True)"
   ]
  }
 ],
 "metadata": {
  "kernelspec": {
   "display_name": "Python 3",
   "language": "python",
   "name": "python3"
  },
  "language_info": {
   "codemirror_mode": {
    "name": "ipython",
    "version": 3
   },
   "file_extension": ".py",
   "mimetype": "text/x-python",
   "name": "python",
   "nbconvert_exporter": "python",
   "pygments_lexer": "ipython3",
   "version": "3.13.0"
  }
 },
 "nbformat": 4,
 "nbformat_minor": 2
}
