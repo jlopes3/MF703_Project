{
 "cells": [
  {
   "cell_type": "code",
   "execution_count": 52,
   "metadata": {},
   "outputs": [],
   "source": [
    "import pandas as pd\n",
    "import os\n",
    "from functools import reduce"
   ]
  },
  {
   "cell_type": "code",
   "execution_count": 53,
   "metadata": {},
   "outputs": [
    {
     "name": "stdout",
     "output_type": "stream",
     "text": [
      "           Date  ES1 LAST  DX1 LAST    TY1 LAST  FF1 LAST  SI1 LAST  CL1 LAST  \\\n",
      "0    2024-11-07   6003.75   104.370  110.187500   95.3650    31.855     72.36   \n",
      "1    2024-11-06   5958.25   104.985  109.546875   95.3575    31.331     71.69   \n",
      "2    2024-11-05   5812.25   103.324  110.406250   95.3575    32.775     71.99   \n",
      "3    2024-11-04   5743.25   103.790  110.359375   95.3575    32.609     71.47   \n",
      "4    2024-11-01   5758.25   104.203  110.031250   95.3575    32.681     69.49   \n",
      "...         ...       ...       ...         ...       ...       ...       ...   \n",
      "6801 1997-09-15    921.75    97.230  109.406250   94.4650     4.705     19.27   \n",
      "6802 1997-09-12    924.00    97.620  109.406250   94.4650     4.720     19.32   \n",
      "6803 1997-09-11    908.50    97.930  108.812500   94.4700     4.710     19.37   \n",
      "6804 1997-09-10    915.25    98.670  108.968750   94.4650     4.692     19.42   \n",
      "6805 1997-09-09    934.00    99.090  109.062500   94.4650     4.704     19.42   \n",
      "\n",
      "      NG1 LAST  GC1 LAST  FF4 LAST  \n",
      "0        2.693    2705.8    95.700  \n",
      "1        2.747    2676.3    95.695  \n",
      "2        2.670    2749.7    95.745  \n",
      "3        2.781    2746.2    95.760  \n",
      "4        2.663    2749.2    95.760  \n",
      "...        ...       ...       ...  \n",
      "6801     2.786     323.3    94.340  \n",
      "6802     2.795     324.8    94.340  \n",
      "6803     2.766     325.1    94.310  \n",
      "6804     2.702     322.6    94.310  \n",
      "6805     2.699     322.6    94.310  \n",
      "\n",
      "[6806 rows x 10 columns]\n"
     ]
    }
   ],
   "source": [
    "xlsx_files = [(\"Raw/\" + file, file.split('.')[0]) for file in os.listdir(\"Raw\") if file.endswith('.xlsx')]\n",
    "csv_files = [(\"Raw/\"+ file, file.split('.')[0]) for file in os.listdir(\"Raw\") if file.endswith('.csv')]\n",
    "\n",
    "xlsx_dfs = []\n",
    "csv_dfs = []\n",
    "\n",
    "if len(xlsx_files) != 0:\n",
    "    xlsx_dfs = list(map(lambda x: pd.read_excel(x[0]).drop('PX_BID', axis=1).ffill().rename(columns={'PX_LAST': x[1] + \" LAST\"}, inplace=False).dropna(), xlsx_files))\n",
    "if len(csv_files) != 0:\n",
    "    csv_dfs = list(map(lambda x: pd.read_csv(x[0]).drop('PX_BID', axis=1).ffill().rename(columns={'PX_LAST': x[1] + \" LAST\"}, inplace=False).dropna(), csv_files))\n",
    "dfs = xlsx_dfs + csv_dfs\n",
    "\n",
    "merged_df = reduce(lambda x, y: pd.merge(x, y, how='inner', on=\"Date\"), dfs)\n",
    "merged_df.to_csv(\"cleaned_futures_data.csv\", index=True, header=True)\n",
    "print(merged_df)"
   ]
  }
 ],
 "metadata": {
  "kernelspec": {
   "display_name": "Python 3",
   "language": "python",
   "name": "python3"
  },
  "language_info": {
   "codemirror_mode": {
    "name": "ipython",
    "version": 3
   },
   "file_extension": ".py",
   "mimetype": "text/x-python",
   "name": "python",
   "nbconvert_exporter": "python",
   "pygments_lexer": "ipython3",
   "version": "3.13.0"
  }
 },
 "nbformat": 4,
 "nbformat_minor": 2
}
