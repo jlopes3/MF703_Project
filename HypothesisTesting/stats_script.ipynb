{
 "cells": [
  {
   "cell_type": "code",
   "execution_count": null,
   "metadata": {},
   "outputs": [],
   "source": [
    "from FutureClass import future\n",
    "import pandas as pd"
   ]
  },
  {
   "cell_type": "code",
   "execution_count": null,
   "metadata": {},
   "outputs": [],
   "source": [
    "tickers = [\"SI1\",\"CL1\",\"DX1\",\"ES1\",\"FF1\",\"FF4\",\"GC1\",\"NG1\",\"TY1\"]\n",
    "#filenames = [r\"Data\\FuturesData\\Raw\\\\\"+ticker + '.xlsx' for ticker in tickers]\n",
    "filenames = [r\"Data\\FuturesData\\Raw\\CL1.xlsx\",r\"Data\\FuturesData\\Raw\\DX1.xlsx\",r\"Data\\FuturesData\\Raw\\ES1.xlsx\",r\"Data\\FuturesData\\Raw\\FF1.xlsx\",\n",
    "             r\"Data\\FuturesData\\Raw\\FF4.xlsx\",r\"Data\\FuturesData\\Raw\\GC1.xlsx\",r\"Data\\FuturesData\\Raw\\NG1.xlsx\",r\"Data\\FuturesData\\Raw\\SI1.xlsx\", r\"Data\\FuturesData\\Raw\\TY1.xlsx\"]\n"
   ]
  },
  {
   "cell_type": "code",
   "execution_count": null,
   "metadata": {},
   "outputs": [],
   "source": [
    "futures = {}\n",
    "for filename in filenames:\n",
    "    temp = future(filename)\n",
    "    futures[temp.symbol] = temp\n",
    "\n",
    "all_correlation_matrix = pd.DataFrame(index=tickers, columns=tickers)"
   ]
  },
  {
   "cell_type": "code",
   "execution_count": null,
   "metadata": {},
   "outputs": [],
   "source": [
    "\n",
    "# Overall Correlation Matrices\n",
    "for i, future_i_name in enumerate(tickers):\n",
    "    for j, future_j_name in enumerate(tickers):\n",
    "        if i <= j:  # Compute only upper triangle (including diagonal)\n",
    "            corr = futures[future_i_name].correlation(futures[future_j_name])\n",
    "            all_correlation_matrix.loc[future_i_name, future_j_name] = corr\n",
    "            all_correlation_matrix.loc[future_j_name, future_i_name] = corr"
   ]
  },
  {
   "cell_type": "code",
   "execution_count": null,
   "metadata": {},
   "outputs": [],
   "source": [
    "\n",
    "#Election time correlations\n",
    "election_correlation_matrix = pd.DataFrame(index=tickers,columns=tickers)\n",
    "for i, future_i_name in enumerate(tickers):\n",
    "    for j, future_j_name in enumerate(tickers):\n",
    "        if i <= j:  # Compute only upper triangle (including diagonal)\n",
    "            corr = futures[future_i_name].correlation(futures[future_j_name],period='election')\n",
    "            election_correlation_matrix.loc[future_i_name, future_j_name] = corr\n",
    "            election_correlation_matrix.loc[future_j_name, future_i_name] = corr\n"
   ]
  },
  {
   "cell_type": "code",
   "execution_count": null,
   "metadata": {},
   "outputs": [],
   "source": [
    "\n",
    "#Non Election time\n",
    "non_election_correlation_matrix = pd.DataFrame(index=tickers,columns=tickers)\n",
    "for i, future_i_name in enumerate(tickers):\n",
    "    for j, future_j_name in enumerate(tickers):\n",
    "        if i <= j:  # Compute only upper triangle (including diagonal)\n",
    "            corr = futures[future_i_name].correlation(futures[future_j_name],period='non_election')\n",
    "            non_election_correlation_matrix.loc[future_i_name, future_j_name] = corr\n",
    "            non_election_correlation_matrix.loc[future_j_name, future_i_name] = corr"
   ]
  },
  {
   "cell_type": "code",
   "execution_count": null,
   "metadata": {},
   "outputs": [],
   "source": [
    "#%%\n",
    "#Variance F Tests\n",
    "results = []\n",
    "df = pd.DataFrame()\n",
    "for item in futures:\n",
    "    results.append(futures[item].election_var_F_test())\n",
    "df[['F Stat','p value']] = pd.DataFrame(results,index= tickers)"
   ]
  }
 ],
 "metadata": {
  "language_info": {
   "name": "python"
  }
 },
 "nbformat": 4,
 "nbformat_minor": 2
}
