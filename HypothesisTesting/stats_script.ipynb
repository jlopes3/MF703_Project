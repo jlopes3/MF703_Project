{
 "cells": [
  {
   "cell_type": "code",
   "execution_count": 4,
   "metadata": {},
   "outputs": [],
   "source": [
    "from FutureClass import future\n",
    "import pandas as pd\n",
    "import os"
   ]
  },
  {
   "cell_type": "code",
   "execution_count": null,
   "metadata": {},
   "outputs": [
    {
     "name": "stdout",
     "output_type": "stream",
     "text": [
      "['../Data/FuturesData/Raw/ES1.xlsx', '../Data/FuturesData/Raw/DX1.xlsx', '../Data/FuturesData/Raw/TY1.xlsx', '../Data/FuturesData/Raw/FF1.xlsx', '../Data/FuturesData/Raw/SI1.xlsx', '../Data/FuturesData/Raw/CL1.xlsx', '../Data/FuturesData/Raw/NG1.xlsx', '../Data/FuturesData/Raw/GC1.xlsx', '../Data/FuturesData/Raw/FF4.xlsx']\n"
     ]
    }
   ],
   "source": [
    "tickers = [\"SI1\",\"CL1\",\"DX1\",\"ES1\",\"FF1\",\"FF4\",\"GC1\",\"NG1\",\"TY1\"]\n",
    "xlsx_files = [r\"../Data/FuturesData/Raw/\" + file for file in os.listdir(\"../Data/FuturesData/Raw/\") if file.endswith('.xlsx')]\n",
    "print(xlsx_files)"
   ]
  },
  {
   "cell_type": "code",
   "execution_count": null,
   "metadata": {},
   "outputs": [
    {
     "name": "stderr",
     "output_type": "stream",
     "text": [
      "/Library/Frameworks/Python.framework/Versions/3.13/lib/python3.13/site-packages/pandas/core/arraylike.py:399: RuntimeWarning: invalid value encountered in log\n",
      "  result = getattr(ufunc, method)(*inputs, **kwargs)\n"
     ]
    },
    {
     "name": "stdout",
     "output_type": "stream",
     "text": [
      "     SI1  CL1  DX1  ES1  FF1  FF4  GC1  NG1  TY1\n",
      "SI1  NaN  NaN  NaN  NaN  NaN  NaN  NaN  NaN  NaN\n",
      "CL1  NaN  NaN  NaN  NaN  NaN  NaN  NaN  NaN  NaN\n",
      "DX1  NaN  NaN  NaN  NaN  NaN  NaN  NaN  NaN  NaN\n",
      "ES1  NaN  NaN  NaN  NaN  NaN  NaN  NaN  NaN  NaN\n",
      "FF1  NaN  NaN  NaN  NaN  NaN  NaN  NaN  NaN  NaN\n",
      "FF4  NaN  NaN  NaN  NaN  NaN  NaN  NaN  NaN  NaN\n",
      "GC1  NaN  NaN  NaN  NaN  NaN  NaN  NaN  NaN  NaN\n",
      "NG1  NaN  NaN  NaN  NaN  NaN  NaN  NaN  NaN  NaN\n",
      "TY1  NaN  NaN  NaN  NaN  NaN  NaN  NaN  NaN  NaN\n"
     ]
    }
   ],
   "source": [
    "futures = {}\n",
    "for filename in xlsx_files:\n",
    "    temp = future(filename)\n",
    "    futures[temp.symbol] = temp\n",
    "\n",
    "all_correlation_matrix = pd.DataFrame(index=tickers, columns=tickers)"
   ]
  },
  {
   "cell_type": "code",
   "execution_count": 15,
   "metadata": {},
   "outputs": [
    {
     "ename": "KeyError",
     "evalue": "'SI1'",
     "output_type": "error",
     "traceback": [
      "\u001b[0;31m---------------------------------------------------------------------------\u001b[0m",
      "\u001b[0;31mKeyError\u001b[0m                                  Traceback (most recent call last)",
      "Cell \u001b[0;32mIn[15], line 5\u001b[0m\n\u001b[1;32m      3\u001b[0m \u001b[38;5;28;01mfor\u001b[39;00m j, future_j_name \u001b[38;5;129;01min\u001b[39;00m \u001b[38;5;28menumerate\u001b[39m(tickers):\n\u001b[1;32m      4\u001b[0m     \u001b[38;5;28;01mif\u001b[39;00m i \u001b[38;5;241m<\u001b[39m\u001b[38;5;241m=\u001b[39m j:  \u001b[38;5;66;03m# Compute only upper triangle (including diagonal)\u001b[39;00m\n\u001b[0;32m----> 5\u001b[0m         corr \u001b[38;5;241m=\u001b[39m \u001b[43mfutures\u001b[49m\u001b[43m[\u001b[49m\u001b[43mfuture_i_name\u001b[49m\u001b[43m]\u001b[49m\u001b[38;5;241m.\u001b[39mcorrelation(futures[future_j_name])\n\u001b[1;32m      6\u001b[0m         all_correlation_matrix\u001b[38;5;241m.\u001b[39mloc[future_i_name, future_j_name] \u001b[38;5;241m=\u001b[39m corr\n\u001b[1;32m      7\u001b[0m         all_correlation_matrix\u001b[38;5;241m.\u001b[39mloc[future_j_name, future_i_name] \u001b[38;5;241m=\u001b[39m corr\n",
      "\u001b[0;31mKeyError\u001b[0m: 'SI1'"
     ]
    }
   ],
   "source": [
    "\n",
    "# Overall Correlation Matrices\n",
    "for i, future_i_name in enumerate(tickers):\n",
    "    for j, future_j_name in enumerate(tickers):\n",
    "        if i <= j:  # Compute only upper triangle (including diagonal)\n",
    "            corr = futures[future_i_name].correlation(futures[future_j_name])\n",
    "            all_correlation_matrix.loc[future_i_name, future_j_name] = corr\n",
    "            all_correlation_matrix.loc[future_j_name, future_i_name] = corr"
   ]
  },
  {
   "cell_type": "code",
   "execution_count": null,
   "metadata": {},
   "outputs": [],
   "source": [
    "\n",
    "#Election time correlations\n",
    "election_correlation_matrix = pd.DataFrame(index=tickers,columns=tickers)\n",
    "for i, future_i_name in enumerate(tickers):\n",
    "    for j, future_j_name in enumerate(tickers):\n",
    "        if i <= j:  # Compute only upper triangle (including diagonal)\n",
    "            corr = futures[future_i_name].correlation(futures[future_j_name],period='election')\n",
    "            election_correlation_matrix.loc[future_i_name, future_j_name] = corr\n",
    "            election_correlation_matrix.loc[future_j_name, future_i_name] = corr\n"
   ]
  },
  {
   "cell_type": "code",
   "execution_count": null,
   "metadata": {},
   "outputs": [],
   "source": [
    "\n",
    "#Non Election time\n",
    "non_election_correlation_matrix = pd.DataFrame(index=tickers,columns=tickers)\n",
    "for i, future_i_name in enumerate(tickers):\n",
    "    for j, future_j_name in enumerate(tickers):\n",
    "        if i <= j:  # Compute only upper triangle (including diagonal)\n",
    "            corr = futures[future_i_name].correlation(futures[future_j_name],period='non_election')\n",
    "            non_election_correlation_matrix.loc[future_i_name, future_j_name] = corr\n",
    "            non_election_correlation_matrix.loc[future_j_name, future_i_name] = corr"
   ]
  },
  {
   "cell_type": "code",
   "execution_count": null,
   "metadata": {},
   "outputs": [],
   "source": [
    "#%%\n",
    "#Variance F Tests\n",
    "results = []\n",
    "df = pd.DataFrame()\n",
    "for item in futures:\n",
    "    results.append(futures[item].election_var_F_test())\n",
    "df[['F Stat','p value']] = pd.DataFrame(results,index= tickers)"
   ]
  }
 ],
 "metadata": {
  "kernelspec": {
   "display_name": "Python 3",
   "language": "python",
   "name": "python3"
  },
  "language_info": {
   "codemirror_mode": {
    "name": "ipython",
    "version": 3
   },
   "file_extension": ".py",
   "mimetype": "text/x-python",
   "name": "python",
   "nbconvert_exporter": "python",
   "pygments_lexer": "ipython3",
   "version": "3.13.0"
  }
 },
 "nbformat": 4,
 "nbformat_minor": 2
}
