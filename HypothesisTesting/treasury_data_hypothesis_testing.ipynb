{
 "cells": [
  {
   "cell_type": "code",
   "execution_count": 2,
   "metadata": {},
   "outputs": [],
   "source": [
    "from scipy import stats\n",
    "import pandas as pd\n",
    "import numpy as np"
   ]
  },
  {
   "cell_type": "code",
   "execution_count": 3,
   "metadata": {},
   "outputs": [],
   "source": [
    "\n",
    "def vol_difference_test_two(months_before, months_after, dataset):\n",
    "    \"\"\" \n",
    "    This function analyzes daily returns in specified election and non-election periods,\n",
    "    computes annualized volatilities for both, and performs Levene's test to assess \n",
    "    variance differences.\n",
    "\n",
    "    Args:\n",
    "        months_before (integer): the number of months before an election to start an election period\n",
    "        months_after (integer): the number of months after an election to end an election period\n",
    "        dataset (string): the filepath of the dataset\n",
    "        \n",
    "    Returns:\n",
    "        annualized_election_volatility (float): the annualized volatility of election periods\n",
    "        annualized_non_election_volatility (float): the annualized volatility of non-election periods\n",
    "        lev_stat (float): the Levene statistic for the daily returns of the non-election periods and election periods\n",
    "        p_value (float): the p-value from the Levene test\n",
    "    \"\"\"\n",
    "    # Load historical data\n",
    "    data = pd.read_csv(dataset)\n",
    "    data['Date'] = pd.to_datetime(data['Date'])\n",
    "    data.set_index('Date', inplace=True)\n",
    "    data = data[(data.index >= '1974-01-01') & (data.index <= '2023-12-31')]\n",
    "\n",
    "    # Separate data into election periods and non-election periods\n",
    "    election_dates = [pd.Timestamp(\"1976-11-02\"), pd.Timestamp(\"1980-11-04\"), pd.Timestamp(\"1984-11-06\"), pd.Timestamp(\"1988-11-08\"), pd.Timestamp(\"1992-11-03\"), pd.Timestamp(\"1996-11-05\"), pd.Timestamp(\"2000-11-07\"), pd.Timestamp(\"2004-11-02\"), pd.Timestamp(\"2008-11-04\"), pd.Timestamp(\"2012-11-06\"), pd.Timestamp(\"2016-11-08\"), pd.Timestamp(\"2020-11-03\")]\n",
    "    election_periods = [(day - pd.DateOffset(months=months_before), day + pd.DateOffset(months=months_after)) for day in election_dates]\n",
    "    data['In Election Cycle'] = data.index.to_series().apply(\n",
    "        lambda date: any(start <= date <= end for start, end in election_periods)\n",
    "    )\n",
    "    election_data = data[data['In Election Cycle']]\n",
    "    non_election_data = data[~data['In Election Cycle']]\n",
    "\n",
    "    # Calculate volatility\n",
    "    election_volatility = []\n",
    "    non_election_volatility = []\n",
    "    annualized_election_volatility = []\n",
    "    annualized_non_election_volatility = []\n",
    "    lev_stat = np.zeros(4)\n",
    "    p_value = np.zeros(4)\n",
    "    for i in range(0,4):\n",
    "        election_volatility.append(election_data[election_data.columns[i]].std())\n",
    "        non_election_volatility.append(non_election_data[election_data.columns[i]].std())\n",
    "\n",
    "        # Annualize the volatility assuming 252 trading days per year\n",
    "        annualized_election_volatility.append(election_volatility[i] * np.sqrt(252))\n",
    "        annualized_non_election_volatility.append(non_election_volatility[i] * np.sqrt(252))\n",
    "\n",
    "        # Levene's Test to see if the variances of Daily Returns are equal\n",
    "        lev_stat[i], p_value[i] = stats.levene(election_data[election_data.columns[i]], non_election_data[election_data.columns[i]])\n",
    "\n",
    "    return print(\"\"\"For {} months before, and {} months after, the p-values are {}\"\"\".format(months_before, months_after, p_value))"
   ]
  },
  {
   "cell_type": "code",
   "execution_count": 11,
   "metadata": {},
   "outputs": [
    {
     "name": "stdout",
     "output_type": "stream",
     "text": [
      "For 1 months before, and 1 months after, the p-values are [3.97741963e-01 2.76058841e-07 6.07552369e-06 6.17799286e-08]\n",
      "For 1 months before, and 2 months after, the p-values are [2.84598597e-01 2.43475991e-10 2.63256459e-08 1.31678174e-11]\n",
      "For 1 months before, and 3 months after, the p-values are [2.24952088e-01 3.45260631e-13 1.61390548e-10 1.61130823e-14]\n",
      "For 1 months before, and 4 months after, the p-values are [1.83450728e-01 9.13719505e-13 1.26066607e-10 1.39355725e-13]\n",
      "For 1 months before, and 5 months after, the p-values are [1.45246271e-01 1.25196612e-12 4.30467258e-11 9.31199440e-13]\n",
      "For 1 months before, and 6 months after, the p-values are [1.06209973e-01 8.42885123e-14 2.37797560e-12 2.36291634e-13]\n",
      "For 2 months before, and 1 months after, the p-values are [2.76490298e-01 1.84754343e-12 6.63728282e-09 2.59640784e-13]\n",
      "For 2 months before, and 2 months after, the p-values are [2.08428435e-01 1.17529861e-15 2.06107201e-11 3.01128898e-17]\n",
      "For 2 months before, and 3 months after, the p-values are [1.63800316e-01 1.23449964e-18 9.39622444e-14 2.95467591e-20]\n",
      "For 2 months before, and 4 months after, the p-values are [1.32538398e-01 4.57940980e-18 7.07483058e-14 3.99467697e-19]\n",
      "For 2 months before, and 5 months after, the p-values are [1.03744140e-01 8.71173276e-18 2.31100193e-14 4.48929356e-18]\n",
      "For 2 months before, and 6 months after, the p-values are [7.69445476e-02 5.32738477e-19 1.18434984e-15 1.21252474e-18]\n",
      "For 3 months before, and 1 months after, the p-values are [2.40410606e-01 9.32330618e-19 2.97371255e-12 1.75258468e-19]\n",
      "For 3 months before, and 2 months after, the p-values are [1.77414581e-01 4.12734032e-22 7.39982545e-15 1.52824690e-23]\n",
      "For 3 months before, and 3 months after, the p-values are [1.39615313e-01 3.05964973e-25 2.40773630e-17 7.27660475e-27]\n",
      "For 3 months before, and 4 months after, the p-values are [1.13097236e-01 1.51976439e-24 1.68377935e-17 6.40698107e-26]\n",
      "For 3 months before, and 5 months after, the p-values are [8.85928641e-02 3.90119523e-24 4.97274842e-18 1.17902425e-24]\n",
      "For 3 months before, and 6 months after, the p-values are [6.29740346e-02 2.09408493e-25 1.69081215e-19 3.14306991e-25]\n",
      "For 4 months before, and 1 months after, the p-values are [1.90815329e-01 6.76858369e-29 4.64255764e-18 2.08928227e-28]\n",
      "For 4 months before, and 2 months after, the p-values are [1.41813681e-01 2.26050933e-32 8.55318745e-21 1.08650073e-32]\n",
      "For 4 months before, and 3 months after, the p-values are [1.11090885e-01 1.33180377e-35 2.10881534e-23 3.29402145e-36]\n",
      "For 4 months before, and 4 months after, the p-values are [8.95283571e-02 1.31432928e-34 1.79894202e-23 3.37346775e-35]\n",
      "For 4 months before, and 5 months after, the p-values are [6.96343192e-02 6.48979057e-34 5.89950033e-24 1.31241500e-33]\n",
      "For 4 months before, and 6 months after, the p-values are [4.87059060e-02 3.56727422e-35 1.63471674e-25 3.04214358e-34]\n",
      "For 5 months before, and 1 months after, the p-values are [1.49402225e-01 1.21396136e-41 1.03875690e-26 3.41874057e-38]\n",
      "For 5 months before, and 2 months after, the p-values are [1.11572591e-01 3.12116078e-45 1.46291046e-29 1.12832358e-42]\n",
      "For 5 months before, and 3 months after, the p-values are [8.68485214e-02 1.44341774e-48 2.88385256e-32 1.01652534e-46]\n",
      "For 5 months before, and 4 months after, the p-values are [6.95272195e-02 2.78036991e-47 3.51279834e-32 8.55208744e-46]\n",
      "For 5 months before, and 5 months after, the p-values are [5.36031285e-02 2.69207365e-46 1.44239474e-32 6.01422088e-44]\n",
      "For 5 months before, and 6 months after, the p-values are [3.67963437e-02 1.46735635e-47 3.44245753e-34 9.54171820e-45]\n",
      "For 6 months before, and 1 months after, the p-values are [1.08718099e-01 1.49063440e-55 1.31378245e-36 5.99982408e-48]\n",
      "For 6 months before, and 2 months after, the p-values are [7.89520057e-02 2.44548850e-59 1.31196001e-39 1.03429601e-52]\n",
      "For 6 months before, and 3 months after, the p-values are [6.04268477e-02 7.64602675e-63 1.85309333e-42 4.61591747e-57]\n",
      "For 6 months before, and 4 months after, the p-values are [4.75972902e-02 2.61830248e-61 2.91518578e-42 3.90850754e-56]\n",
      "For 6 months before, and 5 months after, the p-values are [3.59735893e-02 4.24822517e-60 1.36660187e-42 3.66506435e-54]\n",
      "For 6 months before, and 6 months after, the p-values are [2.65915930e-02 2.08152746e-61 2.48961268e-44 4.75281344e-55]\n"
     ]
    }
   ],
   "source": [
    "for x in range(1,7):\n",
    "    for y in range(1,7):\n",
    "        vol_difference_test_two(x,y, r\"MF703_Project\\Data\\TreasuryData\\merged_cleaned_treasury_data.csv\")\n",
    "        "
   ]
  }
 ],
 "metadata": {
  "kernelspec": {
   "display_name": "base",
   "language": "python",
   "name": "python3"
  },
  "language_info": {
   "codemirror_mode": {
    "name": "ipython",
    "version": 3
   },
   "file_extension": ".py",
   "mimetype": "text/x-python",
   "name": "python",
   "nbconvert_exporter": "python",
   "pygments_lexer": "ipython3",
   "version": "3.12.4"
  }
 },
 "nbformat": 4,
 "nbformat_minor": 2
}
