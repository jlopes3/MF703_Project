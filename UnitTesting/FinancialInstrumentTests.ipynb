{
 "cells": [
  {
   "cell_type": "code",
   "execution_count": 2,
   "metadata": {},
   "outputs": [],
   "source": [
    "import sys\n",
    "import os\n",
    "sys.path.append(os.path.abspath(\"../Instruments\"))\n",
    "import numpy as np\n",
    "from ETF import ETF\n",
    "from Future import Future"
   ]
  },
  {
   "cell_type": "code",
   "execution_count": 5,
   "metadata": {},
   "outputs": [
    {
     "name": "stdout",
     "output_type": "stream",
     "text": [
      "Type: ETF, Ticker: SPY, Period: All Periods, Volatility: 0.20774850139246842, First Date: 2007-04-11 00:00:00, Last Date: 2020-12-30 00:00:00\n",
      "Type: Future, Ticker: CL1, Period: All Periods, Volatility: 0.4289696742420851, First Date: 1997-09-10 00:00:00, Last Date: 2024-11-07 00:00:00\n",
      "Instrument Type: <property object at 0x7ff73ca6f770>\n",
      "Ticker Code: <property object at 0x7ff73ca6f590>\n"
     ]
    }
   ],
   "source": [
    "etfSPY = ETF(\"SPY\")\n",
    "print(etfSPY)\n",
    "futureCL1 = Future(\"CL1\")\n",
    "print(futureCL1)\n",
    "\n"
   ]
  },
  {
   "cell_type": "code",
   "execution_count": 6,
   "metadata": {},
   "outputs": [
    {
     "name": "stdout",
     "output_type": "stream",
     "text": [
      "Instrument Type: Future\n",
      "Ticker: CL1\n",
      "Default Period: 0\n",
      "Updated Period: 1\n",
      "Log Returns (Head):\n",
      "            CL1 Log Return\n",
      "Date                      \n",
      "1997-09-10        0.000000\n",
      "1997-09-11       -0.002578\n",
      "1997-09-12       -0.002585\n",
      "1997-09-15       -0.002591\n",
      "1997-09-16        0.017490\n",
      "Full Log Returns (Head):\n",
      "            CL1 Log Return\n",
      "Date                      \n",
      "1997-09-10        0.000000\n",
      "1997-09-11       -0.002578\n",
      "1997-09-12       -0.002585\n",
      "1997-09-15       -0.002591\n",
      "1997-09-16        0.017490\n",
      "Prices DataFrame Columns: Index(['CL1 LAST'], dtype='object')\n",
      "Prices DataFrame (Head):\n",
      "            CL1 LAST\n",
      "Date                \n",
      "1997-09-09     19.42\n",
      "1997-09-10     19.42\n",
      "1997-09-11     19.37\n",
      "1997-09-12     19.32\n",
      "1997-09-15     19.27\n"
     ]
    }
   ],
   "source": [
    "future = Future(\"CL1\")\n",
    "\n",
    "# Check the instrument type\n",
    "print(\"Instrument Type:\", future.instrument_type)\n",
    "\n",
    "# Check the ticker property\n",
    "print(\"Ticker:\", future.ticker)\n",
    "\n",
    "# Check the default period\n",
    "print(\"Default Period:\", future.period)\n",
    "\n",
    "# Update the period and print it again\n",
    "future.period = 1\n",
    "print(\"Updated Period:\", future.period)\n",
    "\n",
    "# Fetch and display log returns\n",
    "print(\"Log Returns (Head):\")\n",
    "print(future.log_returns.head())\n",
    "\n",
    "# Fetch and display full log returns\n",
    "print(\"Full Log Returns (Head):\")\n",
    "print(future.full_log_returns.head())\n",
    "\n",
    "# Check prices DataFrame and display its columns\n",
    "print(\"Prices DataFrame Columns:\", future._prices.columns)\n",
    "print(\"Prices DataFrame (Head):\")\n",
    "print(future._prices.head())"
   ]
  },
  {
   "cell_type": "code",
   "execution_count": 7,
   "metadata": {},
   "outputs": [
    {
     "name": "stdout",
     "output_type": "stream",
     "text": [
      "Instrument Type: ETF\n",
      "Ticker: SPY\n",
      "Default Period: 0\n",
      "Updated Period: 1\n",
      "Log Returns (Head):\n",
      "            SPY Log Return\n",
      "Date                      \n",
      "2007-04-11       -0.004088\n",
      "2007-04-12        0.004433\n",
      "2007-04-13        0.004552\n",
      "2007-04-16        0.009452\n",
      "2007-04-17        0.002654\n",
      "Full Log Returns (Head):\n",
      "            SPY Log Return\n",
      "Date                      \n",
      "2007-04-11       -0.004088\n",
      "2007-04-12        0.004433\n",
      "2007-04-13        0.004552\n",
      "2007-04-16        0.009452\n",
      "2007-04-17        0.002654\n",
      "Prices DataFrame Columns: Index(['SPY Adj Close'], dtype='object')\n",
      "Prices DataFrame (Head):\n",
      "            SPY Adj Close\n",
      "Date                     \n",
      "2007-04-10     103.622490\n",
      "2007-04-11     103.199715\n",
      "2007-04-12     103.658264\n",
      "2007-04-13     104.131218\n",
      "2007-04-16     105.120110\n"
     ]
    }
   ],
   "source": [
    "etf = ETF(\"SPY\")\n",
    "\n",
    "# Check the instrument type\n",
    "print(\"Instrument Type:\", etf.instrument_type)\n",
    "\n",
    "# Check the ticker property\n",
    "print(\"Ticker:\", etf.ticker)\n",
    "\n",
    "# Check the default period\n",
    "print(\"Default Period:\", etf.period)\n",
    "\n",
    "# Update the period and print it again\n",
    "etf.period = 1\n",
    "print(\"Updated Period:\", etf.period)\n",
    "\n",
    "# Fetch and display log returns\n",
    "print(\"Log Returns (Head):\")\n",
    "print(etf.log_returns.head())\n",
    "\n",
    "# Fetch and display full log returns\n",
    "print(\"Full Log Returns (Head):\")\n",
    "print(etf.full_log_returns.head())\n",
    "\n",
    "# Check prices DataFrame and display its columns\n",
    "print(\"Prices DataFrame Columns:\", etf._prices.columns)\n",
    "print(\"Prices DataFrame (Head):\")\n",
    "print(etf._prices.head())"
   ]
  }
 ],
 "metadata": {
  "kernelspec": {
   "display_name": "base",
   "language": "python",
   "name": "python3"
  },
  "language_info": {
   "codemirror_mode": {
    "name": "ipython",
    "version": 3
   },
   "file_extension": ".py",
   "mimetype": "text/x-python",
   "name": "python",
   "nbconvert_exporter": "python",
   "pygments_lexer": "ipython3",
   "version": "3.9.13"
  }
 },
 "nbformat": 4,
 "nbformat_minor": 2
}
