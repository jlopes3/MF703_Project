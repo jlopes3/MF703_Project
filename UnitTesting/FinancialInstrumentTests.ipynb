{
 "cells": [
  {
   "cell_type": "code",
   "execution_count": 2,
   "metadata": {},
   "outputs": [],
   "source": [
    "import sys\n",
    "import os\n",
    "sys.path.append(os.path.abspath(\"../Instruments\"))\n",
    "import numpy as np\n",
    "from ETF import ETF\n",
    "from Future import Future"
   ]
  },
  {
   "cell_type": "code",
   "execution_count": 8,
   "metadata": {},
   "outputs": [
    {
     "name": "stdout",
     "output_type": "stream",
     "text": [
      "Type: ETF, Ticker: SPY, Period: All Periods, Volatility: 0.20774850139246862, First Date: 2007-04-11 00:00:00, Last Date: 2020-12-30 00:00:00\n",
      "Type: Future, Ticker: CL1, Period: All Periods, Volatility: 0.42896967424208443, First Date: 1997-09-10 00:00:00, Last Date: 2024-11-07 00:00:00\n"
     ]
    }
   ],
   "source": [
    "etfSPY = ETF(\"SPY\")\n",
    "print(etfSPY)\n",
    "futureCL1 = Future(\"CL1\")\n",
    "print(futureCL1)"
   ]
  }
 ],
 "metadata": {
  "kernelspec": {
   "display_name": "Python 3",
   "language": "python",
   "name": "python3"
  },
  "language_info": {
   "codemirror_mode": {
    "name": "ipython",
    "version": 3
   },
   "file_extension": ".py",
   "mimetype": "text/x-python",
   "name": "python",
   "nbconvert_exporter": "python",
   "pygments_lexer": "ipython3",
   "version": "3.13.0"
  }
 },
 "nbformat": 4,
 "nbformat_minor": 2
}
