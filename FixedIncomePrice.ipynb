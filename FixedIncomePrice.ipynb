{
 "cells": [
  {
   "cell_type": "code",
   "execution_count": 7,
   "metadata": {},
   "outputs": [],
   "source": [
    "\"\"\"File creating dataframes to represent the price of treasuries per election cycle.\n",
    "This assumes that the treasuries are issued at the start of each cycle(election cycle or non-election cycle)\n",
    "\"\"\"\n",
    "\n",
    "import FixedIncomeAnalysisClass as FI\n",
    "from DateRanges import election_day\n",
    "import pandas as pd\n",
    "import datetime as dt\n",
    "\n",
    "#importing treasury curve data\n",
    "df = pd.read_csv(\"Data/TreasuryData/Cleaned-Data/cleaned_treasury_data.csv\")\n",
    "df.set_index(\"Date\", inplace=True)\n",
    "df.index = pd.to_datetime(df.index)\n",
    "\n",
    "#setting an empty dataframe to put the data in\n",
    "new_df = pd.DataFrame(columns= df.columns)"
   ]
  },
  {
   "cell_type": "code",
   "execution_count": 9,
   "metadata": {},
   "outputs": [
    {
     "name": "stderr",
     "output_type": "stream",
     "text": [
      "/Users/Christian/Documents/GitHub/MF703_Project/FixedIncomeAnalysisClass.py:319: FutureWarning: Series.__getitem__ treating keys as positions is deprecated. In a future version, integer keys will always be treated as labels (consistent with DataFrame behavior). To access a value by position, use `ser.iloc[pos]`\n",
      "  ytm_ = df.iloc[0,:][maturity_years]\n"
     ]
    },
    {
     "name": "stdout",
     "output_type": "stream",
     "text": [
      "8.01\n",
      "Interpolated curves cannot support discount rates\n"
     ]
    },
    {
     "ename": "UnboundLocalError",
     "evalue": "cannot access local variable 's_rates' where it is not associated with a value",
     "output_type": "error",
     "traceback": [
      "\u001b[0;31m---------------------------------------------------------------------------\u001b[0m",
      "\u001b[0;31mUnboundLocalError\u001b[0m                         Traceback (most recent call last)",
      "Cell \u001b[0;32mIn[9], line 13\u001b[0m\n\u001b[1;32m     10\u001b[0m filtered_df \u001b[38;5;241m=\u001b[39m df\u001b[38;5;241m.\u001b[39mloc[start:end]\n\u001b[1;32m     12\u001b[0m \u001b[38;5;66;03m#calculating the price of the treasury per day in the analysis cycle\u001b[39;00m\n\u001b[0;32m---> 13\u001b[0m price \u001b[38;5;241m=\u001b[39m FI\u001b[38;5;241m.\u001b[39mTreasury(\u001b[38;5;241m10\u001b[39m, filtered_df)\u001b[38;5;241m.\u001b[39mnew_price()\n\u001b[1;32m     15\u001b[0m pd\u001b[38;5;241m.\u001b[39mconcat(new_df, price)\n",
      "File \u001b[0;32m~/Documents/GitHub/MF703_Project/FixedIncomeAnalysisClass.py:335\u001b[0m, in \u001b[0;36mTreasury.new_price\u001b[0;34m(self)\u001b[0m\n\u001b[1;32m    325\u001b[0m \u001b[38;5;28;01mdef\u001b[39;00m \u001b[38;5;21mnew_price\u001b[39m(\u001b[38;5;28mself\u001b[39m):\n\u001b[1;32m    326\u001b[0m \u001b[38;5;250m    \u001b[39m\u001b[38;5;124;03m\"\"\"\u001b[39;00m\n\u001b[1;32m    327\u001b[0m \u001b[38;5;124;03m    Calculate the daily price of the bond using the DataFrame passed during initialization.\u001b[39;00m\n\u001b[1;32m    328\u001b[0m \u001b[38;5;124;03m    \u001b[39;00m\n\u001b[0;32m   (...)\u001b[0m\n\u001b[1;32m    333\u001b[0m \u001b[38;5;124;03m        pd.Series: A Series of bond prices indexed by dates from the DataFrame.\u001b[39;00m\n\u001b[1;32m    334\u001b[0m \u001b[38;5;124;03m    \"\"\"\u001b[39;00m\n\u001b[0;32m--> 335\u001b[0m     \u001b[38;5;28;01mreturn\u001b[39;00m \u001b[38;5;28msuper\u001b[39m()\u001b[38;5;241m.\u001b[39mnew_price(\u001b[38;5;28mself\u001b[39m\u001b[38;5;241m.\u001b[39mpar_curve)\n",
      "File \u001b[0;32m~/Documents/GitHub/MF703_Project/FixedIncomeAnalysisClass.py:290\u001b[0m, in \u001b[0;36mTreasuries.new_price\u001b[0;34m(self, S)\u001b[0m\n\u001b[1;32m    287\u001b[0m \u001b[38;5;66;03m#setting empty discount factors array\u001b[39;00m\n\u001b[1;32m    288\u001b[0m discount_factors \u001b[38;5;241m=\u001b[39m np\u001b[38;5;241m.\u001b[39marray([])\n\u001b[0;32m--> 290\u001b[0m \u001b[38;5;28;01mif\u001b[39;00m \u001b[38;5;28mlen\u001b[39m(s_rates)\u001b[38;5;241m!=\u001b[39m \u001b[38;5;28mlen\u001b[39m(coupons):\n\u001b[1;32m    291\u001b[0m     \u001b[38;5;28mprint\u001b[39m(s_rates)\n\u001b[1;32m    293\u001b[0m \u001b[38;5;66;03m#calculating the discount factors\u001b[39;00m\n",
      "\u001b[0;31mUnboundLocalError\u001b[0m: cannot access local variable 's_rates' where it is not associated with a value"
     ]
    }
   ],
   "source": [
    "#calculating prices for different treasuries per year \n",
    "for year in range(1992,2025):\n",
    "    e_day = election_day(year)\n",
    "\n",
    "    #creating the start and end dates of each cycle\n",
    "    start = e_day - dt.timedelta(days = 52/2 *7) # Keeping the start day a tuesday 26 weeks (6 months) prior\n",
    "    end = e_day + dt.timedelta(days = 14)\n",
    "\n",
    "    #filtering the dataframe\n",
    "    filtered_df = df.loc[start:end]\n",
    "\n",
    "    #calculating the price of the treasury per day in the analysis cycle\n",
    "    price = FI.Treasury(10, filtered_df).new_price()\n",
    "\n",
    "    pd.concat(new_df, price)"
   ]
  },
  {
   "cell_type": "code",
   "execution_count": null,
   "metadata": {},
   "outputs": [],
   "source": []
  },
  {
   "cell_type": "code",
   "execution_count": null,
   "metadata": {},
   "outputs": [],
   "source": []
  }
 ],
 "metadata": {
  "kernelspec": {
   "display_name": "base",
   "language": "python",
   "name": "python3"
  },
  "language_info": {
   "codemirror_mode": {
    "name": "ipython",
    "version": 3
   },
   "file_extension": ".py",
   "mimetype": "text/x-python",
   "name": "python",
   "nbconvert_exporter": "python",
   "pygments_lexer": "ipython3",
   "version": "3.12.4"
  }
 },
 "nbformat": 4,
 "nbformat_minor": 2
}
