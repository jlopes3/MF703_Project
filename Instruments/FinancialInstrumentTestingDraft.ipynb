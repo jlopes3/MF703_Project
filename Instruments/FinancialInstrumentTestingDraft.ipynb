{
 "cells": [
  {
   "cell_type": "code",
   "execution_count": null,
   "metadata": {},
   "outputs": [],
   "source": [
    "import numpy as np\n",
    "from ETF import ETF\n",
    "from Future import Future"
   ]
  },
  {
   "cell_type": "markdown",
   "metadata": {},
   "source": [
    "# FinancialInstrument Class\n",
    "This is an abstract class that cannot be instantiated. It has child class including ETF and Future that can be instantiated."
   ]
  },
  {
   "cell_type": "code",
   "execution_count": 19,
   "metadata": {},
   "outputs": [
    {
     "name": "stdout",
     "output_type": "stream",
     "text": [
      "Type: ETF, Ticker: SPY, Period: All Periods, Volatility: 0.19828607421028432, First Date: 1998-12-23 00:00:00, Last Date: 2020-12-30 00:00:00\n",
      "Type: Future, Ticker: FF1, Period: All Periods, Volatility: 0.005849773933370494, First Date: 1997-09-10 00:00:00, Last Date: 2024-11-07 00:00:00\n"
     ]
    }
   ],
   "source": [
    "etfSPY = ETF(\"SPY\")\n",
    "print(etfSPY)\n",
    "futureFF1 = Future(\"FF1\")\n",
    "print(futureFF1)"
   ]
  },
  {
   "cell_type": "markdown",
   "metadata": {},
   "source": [
    "FinancialInstrument has the abstract properties log_returns, instrument_type, ticker, and period that are implemented by the derived classes."
   ]
  },
  {
   "cell_type": "markdown",
   "metadata": {},
   "source": [
    "#### Properties: full_log_returns, log_returns, period, instrument_type, and ticker\n",
    "These are all properties of a FinancialInstrument. full_log_returns and log_returns are dataframes indexed by date, period is an integer, and the rest are strings."
   ]
  },
  {
   "cell_type": "code",
   "execution_count": 20,
   "metadata": {},
   "outputs": [
    {
     "name": "stdout",
     "output_type": "stream",
     "text": [
      "            SPY Log Return\n",
      "Date                      \n",
      "1998-12-23        0.020757\n",
      "1998-12-24       -0.004321\n",
      "1998-12-28       -0.002550\n",
      "1998-12-29        0.015708\n",
      "1998-12-30       -0.008077\n",
      "...                    ...\n",
      "2020-12-23        0.000898\n",
      "2020-12-24        0.003883\n",
      "2020-12-28        0.008554\n",
      "2020-12-29       -0.001910\n",
      "2020-12-30        0.001426\n",
      "\n",
      "[5541 rows x 1 columns]\n",
      "            SPY Log Return\n",
      "2004-05-04       -0.000803\n",
      "2004-05-05        0.006405\n",
      "2004-05-06       -0.008638\n",
      "2004-05-07       -0.016685\n",
      "2004-05-10       -0.010330\n",
      "...                    ...\n",
      "2020-11-11        0.007401\n",
      "2020-11-12       -0.009748\n",
      "2020-11-13        0.013750\n",
      "2020-11-16        0.012405\n",
      "2020-11-17       -0.005393\n",
      "\n",
      "[687 rows x 1 columns]\n",
      "1\n",
      "ETF\n",
      "SPY\n",
      "            SPY Log Return\n",
      "Date                      \n",
      "1998-12-23        0.020757\n",
      "1998-12-24       -0.004321\n",
      "1998-12-28       -0.002550\n",
      "1998-12-29        0.015708\n",
      "1998-12-30       -0.008077\n",
      "...                    ...\n",
      "2020-12-23        0.000898\n",
      "2020-12-24        0.003883\n",
      "2020-12-28        0.008554\n",
      "2020-12-29       -0.001910\n",
      "2020-12-30        0.001426\n",
      "\n",
      "[5541 rows x 1 columns]\n",
      "            SPY Log Return\n",
      "2004-05-04       -0.000803\n",
      "2004-05-05        0.006405\n",
      "2004-05-06       -0.008638\n",
      "2004-05-07       -0.016685\n",
      "2004-05-10       -0.010330\n",
      "...                    ...\n",
      "2020-11-11        0.007401\n",
      "2020-11-12       -0.009748\n",
      "2020-11-13        0.013750\n",
      "2020-11-16        0.012405\n",
      "2020-11-17       -0.005393\n",
      "\n",
      "[687 rows x 1 columns]\n",
      "0\n",
      "Future\n",
      "FF1\n"
     ]
    }
   ],
   "source": [
    "etfSPY.filter(startDate=\"2001-05-05\", period=1)\n",
    "print(etfSPY.full_log_returns)\n",
    "print(etfSPY.log_returns)\n",
    "print(etfSPY.period)\n",
    "print(etfSPY.instrument_type)\n",
    "print(etfSPY.ticker)\n",
    "futureFF1.filter(endDate=\"2002-09-17\", period=0)\n",
    "print(etfSPY.full_log_returns)\n",
    "print(etfSPY.log_returns)\n",
    "print(futureFF1.period)\n",
    "print(futureFF1.instrument_type)\n",
    "print(futureFF1.ticker)\n"
   ]
  },
  {
   "cell_type": "markdown",
   "metadata": {},
   "source": [
    "#### get_date_range\n",
    "Gets the date range for the FinancialInstrument. This is using log_returns, so this is can change after filtering."
   ]
  },
  {
   "cell_type": "code",
   "execution_count": 21,
   "metadata": {},
   "outputs": [
    {
     "name": "stdout",
     "output_type": "stream",
     "text": [
      "(Timestamp('2004-05-04 00:00:00'), Timestamp('2020-11-17 00:00:00'))\n",
      "(Timestamp('1997-09-10 00:00:00'), Timestamp('2002-09-17 00:00:00'))\n"
     ]
    }
   ],
   "source": [
    "print(etfSPY.get_date_range())\n",
    "print(futureFF1.get_date_range())"
   ]
  },
  {
   "cell_type": "markdown",
   "metadata": {},
   "source": [
    "#### Filter\n",
    "The FinancialInstrument can filter the log_returns attribute to a specific time period specified by startDate and endDate in \"YYYY-MM-DD\" format. This dates are inclusive. These parameters are optional. Another optional paramter is period. If you set period=1 it will use only election periods, if you set period=-1 it will use the only non-election periods, and if you set anything else it will use the total date range. All of the functions in FinancialInstrument are based on the log_returns, so they will all use the filtered date range. The filter is done from the initial full date range, so if you filter from 2001-2004 and then filter from 2003-2006, you will ge the date range from 2003-2006 as opposed to 2003-2004. "
   ]
  },
  {
   "cell_type": "code",
   "execution_count": 22,
   "metadata": {},
   "outputs": [
    {
     "name": "stdout",
     "output_type": "stream",
     "text": [
      "            SPY Log Return\n",
      "1998-12-24       -0.004321\n",
      "1998-12-28       -0.002550\n",
      "1998-12-29        0.015708\n",
      "1998-12-30       -0.008077\n",
      "            SPY Log Return\n",
      "2016-05-10        0.012357\n",
      "2016-05-11       -0.009399\n",
      "2016-05-12        0.000290\n",
      "2016-05-13       -0.008752\n",
      "2016-05-16        0.009816\n",
      "...                    ...\n",
      "2016-11-16       -0.001880\n",
      "2016-11-17        0.005127\n",
      "2016-11-18       -0.002240\n",
      "2016-11-21        0.007523\n",
      "2016-11-22        0.001951\n",
      "\n",
      "[138 rows x 1 columns]\n",
      "            SPY Log Return\n",
      "2016-01-04       -0.014078\n",
      "2016-01-05        0.001690\n",
      "2016-01-06       -0.012695\n",
      "2016-01-07       -0.024284\n",
      "2016-01-08       -0.011037\n",
      "...                    ...\n",
      "2016-12-23        0.001463\n",
      "2016-12-27        0.002478\n",
      "2016-12-28       -0.008299\n",
      "2016-12-29       -0.000223\n",
      "2016-12-30       -0.003662\n",
      "\n",
      "[114 rows x 1 columns]\n",
      "\n",
      "            FF1 Log Return\n",
      "1998-12-24        0.000210\n",
      "1998-12-28        0.000158\n",
      "1998-12-29        0.000053\n",
      "1998-12-30        0.000525\n",
      "            FF1 Log Return\n",
      "2016-05-10             0.0\n",
      "2016-05-11             0.0\n",
      "2016-05-12             0.0\n",
      "2016-05-13             0.0\n",
      "2016-05-16             0.0\n",
      "...                    ...\n",
      "2016-11-16             0.0\n",
      "2016-11-17             0.0\n",
      "2016-11-18             0.0\n",
      "2016-11-21             0.0\n",
      "2016-11-22             0.0\n",
      "\n",
      "[138 rows x 1 columns]\n",
      "            FF1 Log Return\n",
      "2016-01-04       -0.000953\n",
      "2016-01-05        0.000000\n",
      "2016-01-06        0.000000\n",
      "2016-01-07        0.000000\n",
      "2016-01-08        0.000000\n",
      "...                    ...\n",
      "2016-12-23        0.000000\n",
      "2016-12-27        0.000000\n",
      "2016-12-28        0.000000\n",
      "2016-12-29        0.000000\n",
      "2016-12-30        0.000000\n",
      "\n",
      "[114 rows x 1 columns]\n"
     ]
    }
   ],
   "source": [
    "etfSPY.filter(startDate=\"1998-12-24\", endDate=\"1998-12-30\")\n",
    "print(etfSPY.log_returns)\n",
    "etfSPY.filter(startDate=\"2016-01-01\", endDate=\"2016-12-30\", period=1)\n",
    "print(etfSPY.log_returns)\n",
    "etfSPY.filter(startDate=\"2016-01-01\", endDate=\"2016-12-30\", period=-1)\n",
    "print(etfSPY.log_returns)\n",
    "print()\n",
    "futureFF1.filter(startDate=\"1998-12-24\", endDate=\"1998-12-30\")\n",
    "print(futureFF1.log_returns)\n",
    "futureFF1.filter(startDate=\"2016-01-01\", endDate=\"2016-12-30\", period=1)\n",
    "print(futureFF1.log_returns)\n",
    "futureFF1.filter(startDate=\"2016-01-01\", endDate=\"2016-12-30\", period=-1)\n",
    "print(futureFF1.log_returns)"
   ]
  },
  {
   "cell_type": "markdown",
   "metadata": {},
   "source": [
    "#### Calculate volatility and variance\n",
    "FinancialInstrument has a method to calculate the volatility and another method to calculate the variance. These functions use log_returns, so filtering does affect these calculations. There is an optional parameter \"annualized\" that is set to True by default and indicates whether or not the value should be annualize in the calculation."
   ]
  },
  {
   "cell_type": "code",
   "execution_count": 23,
   "metadata": {},
   "outputs": [
    {
     "name": "stdout",
     "output_type": "stream",
     "text": [
      "etfSPY annualized volatility: 0.19828607421028432\n",
      "etfSPY daily volatility: 0.012490848590659772\n",
      "futureFF1 annualized volatility: 0.005849773933370494\n",
      "futureFF1 daily volatility: 0.0003685011203249155\n",
      "\n",
      "etfSPY annualized variance: 0.039317367225726374\n",
      "etfSPY daily variance: 0.0001560212985147872\n",
      "futureFF1 annualized variance: 3.4219855071540895e-05\n",
      "futureFF1 daily variance: 1.3579307568071783e-07\n"
     ]
    }
   ],
   "source": [
    "etfSPY = ETF(\"SPY\")\n",
    "futureFF1 =Future(\"FF1\")\n",
    "print(f\"etfSPY annualized volatility: {etfSPY.calculate_volatility()}\")\n",
    "print(f\"etfSPY daily volatility: {etfSPY.calculate_volatility(annualize=False)}\")\n",
    "print(f\"futureFF1 annualized volatility: {futureFF1.calculate_volatility()}\")\n",
    "print(f\"futureFF1 daily volatility: {futureFF1.calculate_volatility(annualize=False)}\")\n",
    "print()\n",
    "print(f\"etfSPY annualized variance: {etfSPY.calculate_variance()}\")\n",
    "print(f\"etfSPY daily variance: {etfSPY.calculate_variance(annualize=False)}\")\n",
    "print(f\"futureFF1 annualized variance: {futureFF1.calculate_variance()}\")\n",
    "print(f\"futureFF1 daily variance: {futureFF1.calculate_variance(annualize=False)}\")\n"
   ]
  },
  {
   "cell_type": "markdown",
   "metadata": {},
   "source": [
    "#### Correlation and Covariance Matrices\n",
    "You can calculate the correlation and covariance matrices for the FinancialInstruments. This is done by using the member function of one FinancialInstrument and passing in a list of the other FinancialInstrument's. If the dates the same for the FinancialInstrument's, the matrices calculated using the subset of the dates which do align."
   ]
  },
  {
   "cell_type": "code",
   "execution_count": 24,
   "metadata": {},
   "outputs": [
    {
     "name": "stdout",
     "output_type": "stream",
     "text": [
      "Covariance Matrix:\n",
      "                XLK Log Return  XLB Log Return  FF1 Log Return\n",
      "XLK Log Return    2.716425e-04    1.541905e-04   -1.013342e-07\n",
      "XLB Log Return    1.541905e-04    2.403332e-04   -2.091127e-07\n",
      "FF1 Log Return   -1.013342e-07   -2.091127e-07    1.193900e-07\n",
      "Correlation Matrix:\n",
      "                XLK Log Return  XLB Log Return  FF1 Log Return\n",
      "XLK Log Return        1.000000        0.603465       -0.017794\n",
      "XLB Log Return        0.603465        1.000000       -0.039038\n",
      "FF1 Log Return       -0.017794       -0.039038        1.000000\n"
     ]
    }
   ],
   "source": [
    "etfXLK = ETF(\"XLK\")\n",
    "etfXLB = ETF(\"XLB\")\n",
    "cov_matrix = etfXLK.covariance_matrix([etfXLB, futureFF1])\n",
    "print(\"Covariance Matrix:\")\n",
    "print(cov_matrix)\n",
    "corr_matrix = etfXLK.correlation_matrix([etfXLB, futureFF1])\n",
    "print(\"Correlation Matrix:\")\n",
    "print(corr_matrix)"
   ]
  },
  {
   "cell_type": "markdown",
   "metadata": {},
   "source": [
    "#### total_log_return\n",
    "You can calculate the total log return for the FinancialInstrument."
   ]
  },
  {
   "cell_type": "code",
   "execution_count": 25,
   "metadata": {},
   "outputs": [
    {
     "name": "stdout",
     "output_type": "stream",
     "text": [
      "1.5296530011907687\n"
     ]
    }
   ],
   "source": [
    "etfSPY = ETF(\"SPY\")\n",
    "print(etfSPY.total_log_return())"
   ]
  },
  {
   "cell_type": "markdown",
   "metadata": {},
   "source": [
    "#### Calculating Beta\n",
    "You can calculate the beta for the FinancialInstrument using another FinancialInstrument as a benchmark."
   ]
  },
  {
   "cell_type": "code",
   "execution_count": 26,
   "metadata": {},
   "outputs": [
    {
     "name": "stdout",
     "output_type": "stream",
     "text": [
      "Beta for FF1 using SPY as a benchmark: -0.0009580251865299503\n",
      "Beta for SPY using FF1 as a benchmark: -1.252622509169503\n"
     ]
    }
   ],
   "source": [
    "print(\"Beta for FF1 using SPY as a benchmark: \" + str(futureFF1.calculate_beta(etfSPY)))\n",
    "print(\"Beta for SPY using FF1 as a benchmark: \" + str(etfSPY.calculate_beta(futureFF1)))"
   ]
  },
  {
   "cell_type": "markdown",
   "metadata": {},
   "source": [
    "#### Summary\n",
    "You can get a summary of the FinancialInstrument."
   ]
  },
  {
   "cell_type": "code",
   "execution_count": 27,
   "metadata": {},
   "outputs": [
    {
     "name": "stdout",
     "output_type": "stream",
     "text": [
      "Type: ETF, Ticker: SPY, Period: All Periods, Volatility: 0.19828607421028432, First Date: 1998-12-23 00:00:00, Last Date: 2020-12-30 00:00:00\n",
      "Type: Future, Ticker: FF1, Period: All Periods, Volatility: 0.005849773933370494, First Date: 1997-09-10 00:00:00, Last Date: 2024-11-07 00:00:00\n"
     ]
    }
   ],
   "source": [
    "print(etfSPY.summary())\n",
    "print(futureFF1.summary())"
   ]
  },
  {
   "cell_type": "markdown",
   "metadata": {},
   "source": [
    "# ETF Class\n",
    "This class is a child class of the abstract FinancialInstrument class."
   ]
  },
  {
   "cell_type": "markdown",
   "metadata": {},
   "source": [
    "#### ETF Constructor\n",
    "The constructor in a string for the ticker of the ETF. The ticker must be one of the ones in the etf_download_cleaning.ipynb notebook file (one of the ETFs in Data/ETFData/Cleaned). The constructor also takes in an integer representing what period of time you would like to consider. -1 is for non-election periods, 1 is for election periods, and 0 is for the total time period."
   ]
  },
  {
   "cell_type": "code",
   "execution_count": 28,
   "metadata": {},
   "outputs": [
    {
     "name": "stdout",
     "output_type": "stream",
     "text": [
      "            SPY Adj Close\n",
      "Date                     \n",
      "1998-12-22      76.356186\n",
      "1998-12-23      77.957672\n",
      "1998-12-24      77.621552\n",
      "1998-12-28      77.423889\n",
      "1998-12-29      78.649681\n",
      "...                   ...\n",
      "2020-12-23     348.315643\n",
      "2020-12-24     349.670654\n",
      "2020-12-28     352.674683\n",
      "2020-12-29     352.001801\n",
      "2020-12-30     352.504028\n",
      "\n",
      "[5542 rows x 1 columns]\n",
      "            XLB Adj Close\n",
      "Date                     \n",
      "1998-12-22      11.776806\n",
      "1998-12-23      11.900496\n",
      "1998-12-24      12.174373\n",
      "1998-12-28      12.068361\n",
      "1998-12-29      12.289229\n",
      "...                   ...\n",
      "2020-12-23      66.022545\n",
      "2020-12-24      66.440231\n",
      "2020-12-28      66.180328\n",
      "2020-12-29      66.022545\n",
      "2020-12-30      66.932175\n",
      "\n",
      "[5542 rows x 1 columns]\n",
      "            XLK Adj Close\n",
      "Date                     \n",
      "1998-12-22      24.064356\n",
      "1998-12-23      24.639280\n",
      "1998-12-24      24.545412\n",
      "1998-12-28      24.615820\n",
      "1998-12-29      24.686216\n",
      "...                   ...\n",
      "2020-12-23     124.272278\n",
      "2020-12-24     125.096161\n",
      "2020-12-28     126.511330\n",
      "2020-12-29     125.910378\n",
      "2020-12-30     125.842522\n",
      "\n",
      "[5542 rows x 1 columns]\n"
     ]
    }
   ],
   "source": [
    "etfSPY = ETF(\"SPY\")\n",
    "print(etfSPY.prices)\n",
    "etfXLB_nonElection = ETF(\"XLB\")\n",
    "print(etfXLB_nonElection.prices)\n",
    "etfXLK_election = ETF(\"XLK\")\n",
    "print(etfXLK_election.prices)"
   ]
  },
  {
   "cell_type": "markdown",
   "metadata": {},
   "source": [
    "#### ETF VaR and Expected Shortfall\n",
    "You can calculate the Value-at-Risk (VaR) and Expected Shortfall (ES) for the ETF at a given confidence level."
   ]
  },
  {
   "cell_type": "code",
   "execution_count": 29,
   "metadata": {},
   "outputs": [
    {
     "name": "stdout",
     "output_type": "stream",
     "text": [
      "etfSPY VaR 95%: 0.02026955678848682\n",
      "etfSPY ES 95%: 0.0008730754879757744\n"
     ]
    }
   ],
   "source": [
    "print(\"etfSPY VaR 95%: \" + str(etfSPY.calculate_VaR(0.95)))\n",
    "print(\"etfSPY ES 95%: \" + str(etfSPY.calculate_ES(0.95)))\n"
   ]
  },
  {
   "cell_type": "markdown",
   "metadata": {},
   "source": [
    "# Future Class\n",
    "This class is a child class of the abstract FinancialInstrument class"
   ]
  },
  {
   "cell_type": "markdown",
   "metadata": {},
   "source": [
    "#### Future Constructor\n",
    "The constructor in a string for the ticker of the Future. The ticker must be one of the ones in the future_cleaning.ipynb notebook file (one of the Futures in Data/FuturesData/Cleaned). The constructor also takes in an integer representing what period of time you would like to consider. -1 is for non-election periods, 1 is for election periods, and 0 is for the total time period."
   ]
  },
  {
   "cell_type": "code",
   "execution_count": 30,
   "metadata": {},
   "outputs": [
    {
     "name": "stdout",
     "output_type": "stream",
     "text": [
      "            FF1 LAST\n",
      "Date                \n",
      "1997-09-09   94.4650\n",
      "1997-09-10   94.4650\n",
      "1997-09-11   94.4700\n",
      "1997-09-12   94.4650\n",
      "1997-09-15   94.4650\n",
      "...              ...\n",
      "2024-11-01   95.3575\n",
      "2024-11-04   95.3575\n",
      "2024-11-05   95.3575\n",
      "2024-11-06   95.3575\n",
      "2024-11-07   95.3650\n",
      "\n",
      "[6806 rows x 1 columns]\n",
      "            GC1 LAST\n",
      "Date                \n",
      "1997-09-09     322.6\n",
      "1997-09-10     322.6\n",
      "1997-09-11     325.1\n",
      "1997-09-12     324.8\n",
      "1997-09-15     323.3\n",
      "...              ...\n",
      "2024-11-01    2749.2\n",
      "2024-11-04    2746.2\n",
      "2024-11-05    2749.7\n",
      "2024-11-06    2676.3\n",
      "2024-11-07    2705.8\n",
      "\n",
      "[6806 rows x 1 columns]\n",
      "              TY1 LAST\n",
      "Date                  \n",
      "1997-09-09  109.062500\n",
      "1997-09-10  108.968750\n",
      "1997-09-11  108.812500\n",
      "1997-09-12  109.406250\n",
      "1997-09-15  109.406250\n",
      "...                ...\n",
      "2024-11-01  110.031250\n",
      "2024-11-04  110.359375\n",
      "2024-11-05  110.406250\n",
      "2024-11-06  109.546875\n",
      "2024-11-07  110.187500\n",
      "\n",
      "[6806 rows x 1 columns]\n"
     ]
    }
   ],
   "source": [
    "futureFF1 = Future(\"FF1\")\n",
    "print(futureFF1.prices)\n",
    "futureGC1_nonElection = Future(\"GC1\")\n",
    "print(futureGC1_nonElection.prices)\n",
    "futureTY1_election = Future(\"TY1\")\n",
    "print(futureTY1_election.prices)"
   ]
  },
  {
   "cell_type": "markdown",
   "metadata": {},
   "source": [
    "#### Future VaR and Expected Shortfall\n",
    "You can calculate the Value-at-Risk (VaR) and Expected Shortfall (ES) for the Future at a given confidence level."
   ]
  },
  {
   "cell_type": "code",
   "execution_count": 31,
   "metadata": {},
   "outputs": [
    {
     "name": "stdout",
     "output_type": "stream",
     "text": [
      "futureFF1 VaR 95%: 0.0006047369819210591\n",
      "futureFF1 ES 95%: 2.0981218565627837e-05\n"
     ]
    }
   ],
   "source": [
    "print(\"futureFF1 VaR 95%: \" + str(futureFF1.calculate_VaR(0.95)))\n",
    "print(\"futureFF1 ES 95%: \" + str(futureFF1.calculate_ES(0.95)))\n"
   ]
  }
 ],
 "metadata": {
  "kernelspec": {
   "display_name": "Python 3",
   "language": "python",
   "name": "python3"
  },
  "language_info": {
   "codemirror_mode": {
    "name": "ipython",
    "version": 3
   },
   "file_extension": ".py",
   "mimetype": "text/x-python",
   "name": "python",
   "nbconvert_exporter": "python",
   "pygments_lexer": "ipython3",
   "version": "3.13.0"
  }
 },
 "nbformat": 4,
 "nbformat_minor": 2
}
