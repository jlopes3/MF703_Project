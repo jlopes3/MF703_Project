{
 "cells": [
  {
   "cell_type": "code",
   "execution_count": null,
   "metadata": {},
   "outputs": [
    {
     "name": "stdout",
     "output_type": "stream",
     "text": [
      "{'1992': [Timestamp('1992-05-05 00:00:00'), Timestamp('1992-11-17 00:00:00')], '1996': [Timestamp('1996-05-07 00:00:00'), Timestamp('1996-11-19 00:00:00')], '2000': [Timestamp('2000-05-09 00:00:00'), Timestamp('2000-11-21 00:00:00')], '2004': [Timestamp('2004-05-04 00:00:00'), Timestamp('2004-11-16 00:00:00')], '2008': [Timestamp('2008-05-06 00:00:00'), Timestamp('2008-11-18 00:00:00')], '2012': [Timestamp('2012-05-08 00:00:00'), Timestamp('2012-11-20 00:00:00')], '2016': [Timestamp('2016-05-10 00:00:00'), Timestamp('2016-11-22 00:00:00')], '2020': [Timestamp('2020-05-05 00:00:00'), Timestamp('2020-11-17 00:00:00')], '2024': [Timestamp('2024-05-07 00:00:00'), Timestamp('2024-11-19 00:00:00')]}\n"
     ]
    }
   ],
   "source": [
    "import numpy as np\n",
    "import pandas as pd\n",
    "from FinancialInstrument import FinancialInstrument\n",
    "from ETF import ETF\n",
    "from Future import Future\n",
    "from Portfolio import Portfolio\n",
    "from datetime import date\n",
    "from DateRanges import electionPeriodBoolsDF, e_year_ranges\n",
    "\n",
    "etfSPY = ETF(\"SPY\")\n",
    "etfXLB = ETF(\"XLB\")\n",
    "etfXLU = ETF(\"XLU\")\n",
    "portfolio1 = Portfolio([(etfSPY, 0.25), (etfXLB, 0.65), (etfXLU, 0.10)])\n",
    "\n",
    "print(portfolio1)\n",
    "portfolio1.filter(period=-1)\n",
    "print()\n",
    "print(portfolio1)\n",
    "portfolio1.filter(period=1)\n",
    "print()\n",
    "print(portfolio1)\n",
    "portfolio1.filter()\n",
    "print(portfolio1)"
   ]
  },
  {
   "cell_type": "code",
   "execution_count": 4,
   "metadata": {},
   "outputs": [
    {
     "name": "stdout",
     "output_type": "stream",
     "text": [
      "Period: Total time period\n",
      "Instrument: SPY, Weight: 0.25\n",
      "Instrument: XLB, Weight: 0.65\n",
      "Instrument: FF1, Weight: 0.1\n",
      "Expected Log Return: 1.486\n",
      "Portfolio Volatility: 0.013\n",
      "Start Date: 1998-12-23 00:00:00\n",
      "End Date: 2020-11-17 00:00:00\n",
      "\n",
      "Period: Total time period\n",
      "Instrument: SPY, Weight: 0.5\n",
      "Instrument: XLB, Weight: 0.2\n",
      "Instrument: FF1, Weight: 0.3\n",
      "Expected Log Return: 1.103\n",
      "Portfolio Volatility: 0.0089\n",
      "Start Date: 1998-12-23 00:00:00\n",
      "End Date: 2020-11-17 00:00:00\n"
     ]
    }
   ],
   "source": [
    "etfSPY = ETF(\"SPY\")\n",
    "etfXLB = ETF(\"XLB\")\n",
    "futureFF1 = Future(\"FF1\")\n",
    "portfolio1 = Portfolio([(etfSPY, 0.25), (etfXLB, 0.65), (futureFF1, 0.10)])\n",
    "print(portfolio1)\n",
    "print()\n",
    "\n",
    "portfolio1.change_weights([0.5,0.2,0.3])\n",
    "print(portfolio1)"
   ]
  }
 ],
 "metadata": {
  "kernelspec": {
   "display_name": "Python 3",
   "language": "python",
   "name": "python3"
  },
  "language_info": {
   "codemirror_mode": {
    "name": "ipython",
    "version": 3
   },
   "file_extension": ".py",
   "mimetype": "text/x-python",
   "name": "python",
   "nbconvert_exporter": "python",
   "pygments_lexer": "ipython3",
   "version": "3.13.0"
  }
 },
 "nbformat": 4,
 "nbformat_minor": 2
}
