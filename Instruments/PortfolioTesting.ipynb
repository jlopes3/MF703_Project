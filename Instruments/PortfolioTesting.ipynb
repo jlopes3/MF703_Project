{
 "cells": [
  {
   "cell_type": "code",
   "execution_count": 5,
   "metadata": {},
   "outputs": [],
   "source": [
    "import numpy as np\n",
    "import pandas as pd\n",
    "from FinancialInstrument import FinancialInstrument\n",
    "from ETF import ETF\n",
    "from Future import Future\n",
    "from Portfolio import Portfolio\n",
    "from datetime import date\n",
    "from DateRanges import electionPeriodBoolsDF, e_year_ranges"
   ]
  },
  {
   "cell_type": "code",
   "execution_count": null,
   "metadata": {},
   "outputs": [
    {
     "name": "stdout",
     "output_type": "stream",
     "text": [
      "                SPY Log Return  BND Log Return  GLD Log Return  \\\n",
      "SPY Log Return        0.053839        0.001762        0.002102   \n",
      "BND Log Return        0.001762        0.003741        0.002737   \n",
      "GLD Log Return        0.002102        0.002737        0.021218   \n",
      "QQQ Log Return        0.057254        0.001434        0.003743   \n",
      "VTI Log Return        0.054797        0.001935        0.002244   \n",
      "\n",
      "                QQQ Log Return  VTI Log Return  \n",
      "SPY Log Return        0.057254        0.054797  \n",
      "BND Log Return        0.001434        0.001935  \n",
      "GLD Log Return        0.003743        0.002244  \n",
      "QQQ Log Return        0.070153        0.057979  \n",
      "VTI Log Return        0.057979        0.056071  \n"
     ]
    }
   ],
   "source": [
    "etfSPY = ETF(\"SPY\")\n",
    "etfBND = ETF(\"BND\")\n",
    "etfGLD = ETF(\"GLD\")\n",
    "etfQQQ = ETF(\"QQQ\")\n",
    "etfVTI = ETF(\"VTI\")\n",
    "etfs = [etfSPY, etfBND, etfGLD, etfQQQ, etfVTI]\n",
    "\n",
    "for etf in etfs:\n",
    "    etf.filter(startDate=\"2018-04-04\", endDate=\"2023-04-04\")\n",
    "\n",
    "cov_matrix = etfSPY.covariance_matrix([etfBND, etfGLD, etfQQQ, etfVTI])\n",
    "\n",
    "def standard_dev (weights, cov_matrix):\n",
    "    return np.sqrt(weights.T@cov_matrix@weights)\n",
    "\n",
    "def expected_frontier(weights, log_returns)\n",
    "\n",
    "\n",
    "\n"
   ]
  },
  {
   "cell_type": "code",
   "execution_count": 7,
   "metadata": {},
   "outputs": [],
   "source": [
    "import matplotlib.pyplot as plt\n",
    "def plot_efficient_frontier(ret, cov_mat, N=5000):\n",
    "\n",
    "    assert len(ret)==len(cov_mat), 'Please make sure the returns matches the shape of the covariance matrix.'\n",
    "\n",
    "    # compute coefficients\n",
    "    n = len(ret)\n",
    "    a = np.ones(n).T@np.linalg.inv(cov_mat)@ret\n",
    "    b = ret.T@np.linalg.inv(cov_mat)@ret\n",
    "    c = np.ones(n).T@np.linalg.inv(cov_mat)@np.ones(n)\n",
    "    d = b*c-a**2\n",
    "\n",
    "    # compute optimal portfolios\n",
    "    ret_arr = np.linspace(0.05,0.2,N)\n",
    "    vol_arr = np.zeros(N)\n",
    "    weight_arr = np.zeros((N, len(ret)))\n",
    "    \n",
    "    for i in range(N):\n",
    "        w = 1/d*(c*np.linalg.inv(cov_mat)@ret-a*np.linalg.inv(cov_mat)@np.ones(n))*ret_arr[i] + 1/d*(b*np.linalg.inv(cov_mat)@np.ones(n)-a*np.linalg.inv(cov_mat)@ret)\n",
    "        vol_arr[i] = np.sqrt(w.T@cov_mat@w)\n",
    "        weight_arr[i,:] = w\n",
    "\n",
    "    # plot the efficient frontier\n",
    "    plt.scatter(vol_arr, ret_arr)\n",
    "    plt.xlabel('Volatility')\n",
    "    plt.ylabel('Return')\n",
    "    plt.show()\n",
    "    \n",
    "    return weight_arr, ret_arr, vol_arr"
   ]
  }
 ],
 "metadata": {
  "kernelspec": {
   "display_name": "Python 3",
   "language": "python",
   "name": "python3"
  },
  "language_info": {
   "codemirror_mode": {
    "name": "ipython",
    "version": 3
   },
   "file_extension": ".py",
   "mimetype": "text/x-python",
   "name": "python",
   "nbconvert_exporter": "python",
   "pygments_lexer": "ipython3",
   "version": "3.13.0"
  }
 },
 "nbformat": 4,
 "nbformat_minor": 2
}
