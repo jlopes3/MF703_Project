{
 "cells": [
  {
   "cell_type": "code",
   "execution_count": 1,
   "metadata": {},
   "outputs": [],
   "source": [
    "import numpy as np\n",
    "from ETF import ETF\n",
    "from Future import Future"
   ]
  },
  {
   "cell_type": "markdown",
   "metadata": {},
   "source": [
    "# FinancialInstrument Class\n",
    "This is an abstract class that cannot be instantiated. It has child class including ETF and Future that can be instantiated."
   ]
  },
  {
   "cell_type": "code",
   "execution_count": 2,
   "metadata": {},
   "outputs": [
    {
     "name": "stdout",
     "output_type": "stream",
     "text": [
      "            SPY Adj Close\n",
      "1998-12-22      76.356186\n",
      "1998-12-23      77.957672\n",
      "1998-12-24      77.621552\n",
      "1998-12-28      77.423889\n",
      "1998-12-29      78.649681\n",
      "...                   ...\n",
      "2020-11-11     336.551941\n",
      "2020-11-12     333.287079\n",
      "2020-11-13     337.901306\n",
      "2020-11-16     342.119171\n",
      "2020-11-17     340.279053\n",
      "\n",
      "[5513 rows x 1 columns]\n"
     ]
    }
   ],
   "source": [
    "etfSPY = ETF(\"SPY\", 0)\n",
    "futureFF1 = Future(\"FF1\", 0)\n",
    "print(etfSPY.prices)"
   ]
  },
  {
   "cell_type": "markdown",
   "metadata": {},
   "source": [
    "FinancialInstrument has the abstract properties log_returns, instrument_type, ticker, and period that are implemented by the derived classes."
   ]
  },
  {
   "cell_type": "markdown",
   "metadata": {},
   "source": [
    "#### Calculate volatility and variance\n",
    "FinancialInstrument has a method to calculate the volatility and another method to calculate the variance. There is an optional parameter \"annualized\" that is set to True by default and indicates whether or not the value should be annualize in the calculation."
   ]
  },
  {
   "cell_type": "code",
   "execution_count": 4,
   "metadata": {},
   "outputs": [
    {
     "name": "stdout",
     "output_type": "stream",
     "text": [
      "etfSPY annualized volatility: 0.1986727672722393\n",
      "etfSPY daily volatility: 0.01251520796388946\n",
      "futureFF1 annualized volatility: 0.005416659093357873\n",
      "futureFF1 daily volatility: 0.00034121744994860783\n",
      "\n",
      "etfSPY annualized variance: 0.03947086845560935\n",
      "etfSPY daily variance: 0.00015663043037940217\n",
      "futureFF1 annualized variance: 2.9340195733656537e-05\n",
      "futureFF1 daily variance: 1.164293481494307e-07\n"
     ]
    }
   ],
   "source": [
    "print(f\"etfSPY annualized volatility: {etfSPY.calculate_volatility()}\")\n",
    "print(f\"etfSPY daily volatility: {etfSPY.calculate_volatility(annualize=False)}\")\n",
    "print(f\"futureFF1 annualized volatility: {futureFF1.calculate_volatility()}\")\n",
    "print(f\"futureFF1 daily volatility: {futureFF1.calculate_volatility(annualize=False)}\")\n",
    "print()\n",
    "print(f\"etfSPY annualized variance: {etfSPY.calculate_variance()}\")\n",
    "print(f\"etfSPY daily variance: {etfSPY.calculate_variance(annualize=False)}\")\n",
    "print(f\"futureFF1 annualized variance: {futureFF1.calculate_variance()}\")\n",
    "print(f\"futureFF1 daily variance: {futureFF1.calculate_variance(annualize=False)}\")\n"
   ]
  },
  {
   "cell_type": "markdown",
   "metadata": {},
   "source": [
    "#### Correlation and Covariance Matrices\n",
    "You can calculate the correlation and covariance matrices for the FinancialInstruments. This is done by using the member function of one FinancialInstrument and passing in a list of the other FinancialInstrument's."
   ]
  },
  {
   "cell_type": "code",
   "execution_count": 28,
   "metadata": {},
   "outputs": [
    {
     "name": "stdout",
     "output_type": "stream",
     "text": [
      "Covariance Matrix:\n",
      "                  XLK Log Return_x  XLK Log Return_y  FF1 Log Return\n",
      "XLK Log Return_x      2.727300e-04      2.727300e-04   -1.018730e-07\n",
      "XLK Log Return_y      2.727300e-04      2.727300e-04   -1.018730e-07\n",
      "FF1 Log Return       -1.018730e-07     -1.018730e-07    1.200191e-07\n",
      "            XLK Log Return_x  XLK Log Return_y  FF1 Log Return\n",
      "1998-12-23          0.023610          0.023610        0.000000\n",
      "1998-12-24         -0.003817         -0.003817        0.000210\n",
      "1998-12-28          0.002864          0.002864        0.000158\n",
      "1998-12-29          0.002856          0.002856        0.000053\n",
      "1998-12-30         -0.003809         -0.003809        0.000525\n",
      "...                      ...               ...             ...\n",
      "2020-11-11          0.023446          0.023446        0.000000\n",
      "2020-11-12         -0.008947         -0.008947        0.000000\n",
      "2020-11-13          0.008452          0.008452        0.000000\n",
      "2020-11-16          0.009607          0.009607        0.000025\n",
      "2020-11-17         -0.005572         -0.005572       -0.000025\n",
      "\n",
      "[5481 rows x 3 columns]\n",
      "Correlation Matrix:\n",
      "                  XLK Log Return_x  XLK Log Return_y  FF1 Log Return\n",
      "XLK Log Return_x          1.000000          1.000000       -0.017806\n",
      "XLK Log Return_y          1.000000          1.000000       -0.017806\n",
      "FF1 Log Return           -0.017806         -0.017806        1.000000\n"
     ]
    }
   ],
   "source": [
    "etfXLK = ETF(\"XLK\", 0)\n",
    "cov_matrix = etfXLK.covariance_matrix([etfXLK, futureFF1])\n",
    "print(\"Covariance Matrix:\")\n",
    "print(cov_matrix)\n",
    "corr_matrix = etfXLK.correlation_matrix([etfXLK, futureFF1])\n",
    "print(\"Correlation Matrix:\")\n",
    "print(corr_matrix)"
   ]
  },
  {
   "cell_type": "markdown",
   "metadata": {},
   "source": [
    "#### Calculating Beta\n",
    "You can calculate the beta for the FinancialInstrument using another FinancialInstrument as a benchmark."
   ]
  },
  {
   "cell_type": "code",
   "execution_count": 30,
   "metadata": {},
   "outputs": [
    {
     "name": "stdout",
     "output_type": "stream",
     "text": [
      "Beta for FF1 using SPY as a benchmark: -0.0009593950024502013\n",
      "Beta for SPY using FF1 as a benchmark: -1.252737612231604\n"
     ]
    }
   ],
   "source": [
    "print(\"Beta for FF1 using SPY as a benchmark: \" + str(futureFF1.calculate_beta(etfSPY)))\n",
    "print(\"Beta for SPY using FF1 as a benchmark: \" + str(etfSPY.calculate_beta(futureFF1)))"
   ]
  },
  {
   "cell_type": "markdown",
   "metadata": {},
   "source": [
    "#### Summary\n",
    "You can get a summary of the FinancialInstrument."
   ]
  },
  {
   "cell_type": "code",
   "execution_count": 31,
   "metadata": {},
   "outputs": [
    {
     "name": "stdout",
     "output_type": "stream",
     "text": [
      "Type: ETF, Ticker: SPY, Period: Total Time Period, Volatility: 0.1986727672722393\n",
      "Type: Future, Ticker: FF1, Period: Total Time Period, Volatility: 0.005416659093357873\n"
     ]
    }
   ],
   "source": [
    "print(etfSPY.summary())\n",
    "print(futureFF1.summary())"
   ]
  },
  {
   "cell_type": "markdown",
   "metadata": {},
   "source": [
    "# ETF Class\n",
    "This class is a child class of the abstract FinancialInstrument class."
   ]
  },
  {
   "cell_type": "markdown",
   "metadata": {},
   "source": [
    "#### ETF Constructor\n",
    "The constructor in a string for the ticker of the ETF. The ticker must be one of the ones in the etf_download_cleaning.ipynb notebook file (one of the ETFs in Data/ETFData/Cleaned). The constructor also takes in an integer representing what period of time you would like to consider. -1 is for non-election periods, 1 is for election periods, and 0 is for the total time period."
   ]
  },
  {
   "cell_type": "code",
   "execution_count": 6,
   "metadata": {},
   "outputs": [
    {
     "name": "stdout",
     "output_type": "stream",
     "text": [
      "            SPY Adj Close\n",
      "1998-12-22      76.356186\n",
      "1998-12-23      77.957672\n",
      "1998-12-24      77.621552\n",
      "1998-12-28      77.423889\n",
      "1998-12-29      78.649681\n",
      "...                   ...\n",
      "2020-11-11     336.551941\n",
      "2020-11-12     333.287079\n",
      "2020-11-13     337.901306\n",
      "2020-11-16     342.119171\n",
      "2020-11-17     340.279053\n",
      "\n",
      "[5513 rows x 1 columns]\n",
      "            XLB Adj Close\n",
      "1998-12-22      11.776806\n",
      "1998-12-23      11.900496\n",
      "1998-12-24      12.174373\n",
      "1998-12-28      12.068361\n",
      "1998-12-29      12.289229\n",
      "...                   ...\n",
      "2020-04-28      47.667900\n",
      "2020-04-29      48.883820\n",
      "2020-04-30      47.430206\n",
      "2020-05-01      46.433693\n",
      "2020-05-04      46.598255\n",
      "\n",
      "[4688 rows x 1 columns]\n",
      "            XLK Adj Close\n",
      "2000-05-09      37.980427\n",
      "2000-05-10      36.138329\n",
      "2000-05-11      37.159107\n",
      "2000-05-12      37.640175\n",
      "2000-05-15      38.344170\n",
      "...                   ...\n",
      "2020-11-11     117.262642\n",
      "2020-11-12     116.218224\n",
      "2020-11-13     117.204605\n",
      "2020-11-16     118.336029\n",
      "2020-11-17     117.678444\n",
      "\n",
      "[825 rows x 1 columns]\n"
     ]
    }
   ],
   "source": [
    "etfSPY = ETF(\"SPY\", 0)\n",
    "print(etfSPY.prices)\n",
    "etfXLB_nonElection = ETF(\"XLB\", -1)\n",
    "print(etfXLB_nonElection.prices)\n",
    "etfXLK_election = ETF(\"XLK\", 1)\n",
    "print(etfXLK_election.prices)"
   ]
  },
  {
   "cell_type": "markdown",
   "metadata": {},
   "source": [
    "#### ETF Properties\n",
    "You can get access to the ETF log-returns, instrument type, ticker, and period information."
   ]
  },
  {
   "cell_type": "code",
   "execution_count": 11,
   "metadata": {},
   "outputs": [
    {
     "name": "stdout",
     "output_type": "stream",
     "text": [
      "            SPY Log Return\n",
      "1998-12-23        0.020757\n",
      "1998-12-24       -0.004321\n",
      "1998-12-28       -0.002550\n",
      "1998-12-29        0.015708\n",
      "1998-12-30       -0.008077\n",
      "...                    ...\n",
      "2020-11-11        0.007401\n",
      "2020-11-12       -0.009748\n",
      "2020-11-13        0.013750\n",
      "2020-11-16        0.012405\n",
      "2020-11-17       -0.005393\n",
      "\n",
      "[5512 rows x 1 columns]\n",
      "etfSPY instrument type: Total Time Period\n",
      "etfSPY ticker: SPY\n",
      "etfSPY period: Total Time Period\n",
      "etfXLB_nonElection period: Non-Election Periods\n",
      "etfXLK_election period: Election Periods\n"
     ]
    }
   ],
   "source": [
    "print(etfSPY.log_returns)\n",
    "print(\"etfSPY instrument type: \" + etfSPY.period)\n",
    "print(\"etfSPY ticker: \" + etfSPY.ticker)\n",
    "print(\"etfSPY period: \" + etfSPY.period)\n",
    "print(\"etfXLB_nonElection period: \" + etfXLB_nonElection.period)\n",
    "print(\"etfXLK_election period: \" + etfXLK_election.period)\n"
   ]
  },
  {
   "cell_type": "markdown",
   "metadata": {},
   "source": [
    "#### ETF VaR and Expected Shortfall\n",
    "You can calculate the Value-at-Risk (VaR) and Expected Shortfall (ES) for the ETF at a given confidence level.\n",
    "\n",
    "# THESE VALUES ARE WRONG AND NEED TO BE FIXED"
   ]
  },
  {
   "cell_type": "code",
   "execution_count": 15,
   "metadata": {},
   "outputs": [
    {
     "name": "stdout",
     "output_type": "stream",
     "text": [
      "etfSPY VaR 95%: SPY Log Return    0.020315\n",
      "dtype: float64\n",
      "etfSPY ES 95%: SPY Log Return    0.031246\n",
      "dtype: float64\n"
     ]
    }
   ],
   "source": [
    "print(\"etfSPY VaR 95%: \" + str(etfSPY.calculate_VaR(0.95)))\n",
    "print(\"etfSPY ES 95%: \" + str(etfSPY.calculate_ES(0.95)))\n"
   ]
  },
  {
   "cell_type": "markdown",
   "metadata": {},
   "source": [
    "# Future Class\n",
    "This class is a child class of the abstract FinancialInstrument class"
   ]
  },
  {
   "cell_type": "markdown",
   "metadata": {},
   "source": [
    "#### Future Constructor\n",
    "The constructor in a string for the ticker of the Future. The ticker must be one of the ones in the future_cleaning.ipynb notebook file (one of the Futures in Data/FuturesData/Cleaned). The constructor also takes in an integer representing what period of time you would like to consider. -1 is for non-election periods, 1 is for election periods, and 0 is for the total time period."
   ]
  },
  {
   "cell_type": "code",
   "execution_count": 17,
   "metadata": {},
   "outputs": [
    {
     "name": "stdout",
     "output_type": "stream",
     "text": [
      "            FF1 LAST\n",
      "1997-09-09   94.4650\n",
      "1997-09-10   94.4650\n",
      "1997-09-11   94.4700\n",
      "1997-09-12   94.4650\n",
      "1997-09-15   94.4650\n",
      "...              ...\n",
      "2020-11-11   99.9100\n",
      "2020-11-12   99.9100\n",
      "2020-11-13   99.9100\n",
      "2020-11-16   99.9125\n",
      "2020-11-17   99.9100\n",
      "\n",
      "[5805 rows x 1 columns]\n",
      "            GC1 LAST\n",
      "1997-09-09     322.6\n",
      "1997-09-10     322.6\n",
      "1997-09-11     325.1\n",
      "1997-09-12     324.8\n",
      "1997-09-15     323.3\n",
      "...              ...\n",
      "2020-04-28    1710.5\n",
      "2020-04-29    1713.4\n",
      "2020-04-30    1694.2\n",
      "2020-05-01    1700.9\n",
      "2020-05-04    1713.3\n",
      "\n",
      "[4982 rows x 1 columns]\n",
      "              TY1 LAST\n",
      "2000-05-09   95.234375\n",
      "2000-05-10   95.734375\n",
      "2000-05-11   95.890625\n",
      "2000-05-12   95.265625\n",
      "2000-05-15   95.546875\n",
      "...                ...\n",
      "2020-11-11  137.609375\n",
      "2020-11-12  138.156250\n",
      "2020-11-13  138.109375\n",
      "2020-11-16  138.031250\n",
      "2020-11-17  138.296875\n",
      "\n",
      "[823 rows x 1 columns]\n"
     ]
    }
   ],
   "source": [
    "futureFF1 = Future(\"FF1\", 0)\n",
    "print(futureFF1.prices)\n",
    "futureGC1_nonElection = Future(\"GC1\", -1)\n",
    "print(futureGC1_nonElection.prices)\n",
    "futureTY1_election = Future(\"TY1\", 1)\n",
    "print(futureTY1_election.prices)"
   ]
  },
  {
   "cell_type": "markdown",
   "metadata": {},
   "source": [
    "#### Future Properties\n",
    "You can get access to the Future log-returns, instrument type, ticker, and period information."
   ]
  },
  {
   "cell_type": "code",
   "execution_count": 18,
   "metadata": {},
   "outputs": [
    {
     "name": "stdout",
     "output_type": "stream",
     "text": [
      "            FF1 Log Return\n",
      "1997-09-10        0.000000\n",
      "1997-09-11        0.000053\n",
      "1997-09-12       -0.000053\n",
      "1997-09-15        0.000000\n",
      "1997-09-16        0.000000\n",
      "...                    ...\n",
      "2020-11-11        0.000000\n",
      "2020-11-12        0.000000\n",
      "2020-11-13        0.000000\n",
      "2020-11-16        0.000025\n",
      "2020-11-17       -0.000025\n",
      "\n",
      "[5804 rows x 1 columns]\n",
      "futureFF1 instrument type: Total Time Period\n",
      "futureFF1 ticker: FF1\n",
      "futureFF1 period: Total Time Period\n",
      "etfXLB_nonElection period: Non-Election Periods\n",
      "futureTY1_election period: Election Periods\n"
     ]
    }
   ],
   "source": [
    "print(futureFF1.log_returns)\n",
    "print(\"futureFF1 instrument type: \" + futureFF1.period)\n",
    "print(\"futureFF1 ticker: \" + futureFF1.ticker)\n",
    "print(\"futureFF1 period: \" + futureFF1.period)\n",
    "print(\"etfXLB_nonElection period: \" + etfXLB_nonElection.period)\n",
    "print(\"futureTY1_election period: \" + futureTY1_election.period)\n"
   ]
  },
  {
   "cell_type": "markdown",
   "metadata": {},
   "source": [
    "#### Future VaR and Expected Shortfall\n",
    "You can calculate the Value-at-Risk (VaR) and Expected Shortfall (ES) for the Future at a given confidence level.\n",
    "\n",
    "# THESE VALUES ARE WRONG AND NEED TO BE FIXED"
   ]
  },
  {
   "cell_type": "code",
   "execution_count": 19,
   "metadata": {},
   "outputs": [
    {
     "name": "stdout",
     "output_type": "stream",
     "text": [
      "futureFF1 VaR 95%: FF1 Log Return    0.000552\n",
      "dtype: float64\n",
      "futureFF1 ES 95%: FF1 Log Return    0.001391\n",
      "dtype: float64\n"
     ]
    }
   ],
   "source": [
    "print(\"futureFF1 VaR 95%: \" + str(futureFF1.calculate_VaR(0.95)))\n",
    "print(\"futureFF1 ES 95%: \" + str(futureFF1.calculate_ES(0.95)))\n"
   ]
  }
 ],
 "metadata": {
  "kernelspec": {
   "display_name": "Python 3",
   "language": "python",
   "name": "python3"
  },
  "language_info": {
   "codemirror_mode": {
    "name": "ipython",
    "version": 3
   },
   "file_extension": ".py",
   "mimetype": "text/x-python",
   "name": "python",
   "nbconvert_exporter": "python",
   "pygments_lexer": "ipython3",
   "version": "3.13.0"
  }
 },
 "nbformat": 4,
 "nbformat_minor": 2
}
