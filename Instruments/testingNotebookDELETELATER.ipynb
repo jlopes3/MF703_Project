{
 "cells": [
  {
   "cell_type": "code",
   "execution_count": 2,
   "metadata": {},
   "outputs": [
    {
     "name": "stdout",
     "output_type": "stream",
     "text": [
      "Beta of XLB relative to ^GSPC: 0.9831322665398753\n"
     ]
    }
   ],
   "source": [
    "import pandas as pd\n",
    "from ETF import ETF\n",
    "\n",
    "\n",
    "etfXLB = ETF(\"XLB\")\n",
    "etfGSPC = ETF(\"^GSPC\")\n",
    "\n",
    "beta = etfXLB.calculate_beta(etfGSPC.log_returns)\n",
    "print(f\"Beta of XLB relative to ^GSPC: {beta}\")\n",
    "\n"
   ]
  }
 ],
 "metadata": {
  "kernelspec": {
   "display_name": "Python 3",
   "language": "python",
   "name": "python3"
  },
  "language_info": {
   "codemirror_mode": {
    "name": "ipython",
    "version": 3
   },
   "file_extension": ".py",
   "mimetype": "text/x-python",
   "name": "python",
   "nbconvert_exporter": "python",
   "pygments_lexer": "ipython3",
   "version": "3.13.0"
  }
 },
 "nbformat": 4,
 "nbformat_minor": 2
}
