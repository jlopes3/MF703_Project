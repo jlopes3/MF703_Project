{
 "cells": [
  {
   "cell_type": "code",
   "execution_count": 1,
   "id": "f2ec7b88-806e-4f4a-b072-e815cf42351a",
   "metadata": {},
   "outputs": [],
   "source": [
    "import pandas as pd\n",
    "import sys\n",
    "import os\n",
    "sys.path.append(os.path.abspath(\"../Instruments\"))\n",
    "import numpy as np\n",
    "from ETF import ETF\n",
    "from Future import Future\n",
    "from Treasury import Treasury\n",
    "from Portfolio import Portfolio\n",
    "from risk_free_rate import get_risk_free_rate"
   ]
  },
  {
   "cell_type": "markdown",
   "id": "a18dd9b0-6fde-4bd8-ad39-83a9941d7ff4",
   "metadata": {},
   "source": [
    "# Long  Only Portfolio With Only ETFs"
   ]
  },
  {
   "cell_type": "code",
   "execution_count": 2,
   "id": "2bf49ac7-e26c-47db-80ec-92f3f3be4e93",
   "metadata": {},
   "outputs": [],
   "source": [
    "SPY = ETF(\"SPY\")\n",
    "XLB = ETF(\"XLB\")\n",
    "XLF = ETF(\"XLF\")\n",
    "XLP = ETF(\"XLP\")\n",
    "XLY = ETF(\"XLY\")\n",
    "XLE = ETF(\"XLE\")\n",
    "XLI = ETF(\"XLI\")\n",
    "XLK = ETF(\"XLK\")\n",
    "XLU = ETF(\"XLU\")\n",
    "XLV = ETF(\"XLV\")\n",
    "\n",
    "all_etfs = [XLB, XLF, XLP, XLY, XLE, XLI, XLK, XLU, XLV]\n"
   ]
  },
  {
   "cell_type": "code",
   "execution_count": 3,
   "id": "33aef08a-db50-4248-b032-0176206c663c",
   "metadata": {},
   "outputs": [
    {
     "data": {
      "image/png": "[encoded data removed]",
      "text/plain": [
       "<Figure size 640x480 with 1 Axes>"
      ]
     },
     "metadata": {},
     "output_type": "display_data"
    }
   ],
   "source": [
    "portfolio = Portfolio(all_etfs, rf = get_risk_free_rate('2008-05-06'), equity_benchmark = SPY)\n",
    "portfolio.filter(startDate=\"2008-01-01\", endDate=\"2024-01-01\", period=1)\n",
    "max_sharpe_ratio, ret, vol, weights = portfolio.max_sharpe_portfolio(n_points=100, min_weight=0, max_weight=1.0)\n",
    "portfolio.plot_ef(n_points = 100, min_weight=0, max_weight=1.0)\n"
   ]
  },
  {
   "cell_type": "code",
   "execution_count": 4,
   "id": "27c881c9-2185-47d7-a449-80ed68ab4f36",
   "metadata": {},
   "outputs": [
    {
     "name": "stdout",
     "output_type": "stream",
     "text": [
      "MSR portfolio weights: [0.07305841 0.08061498 0.03445702 0.04785648 0.06171841 0.07075438\n",
      " 0.33343975 0.10125328 0.19684727]\n",
      "MSR portfolio expected annualized log return: 0.08328567644753945\n",
      "MSR portfolio annualized volatility of log returns: 0.2501663543602025\n",
      "Sharpe Ratio of Portfolio: 0.26317992686187\n",
      "MSR portfolio VaR: 0.4114870353106063\n",
      "MSR portfolio ES: 0.5160213431462308\n",
      "\n"
     ]
    }
   ],
   "source": [
    "print(\"MSR portfolio weights: \" + str(weights))\n",
    "print(\"MSR portfolio expected annualized log return: \" + str(ret))\n",
    "print(\"MSR portfolio annualized volatility of log returns: \" + str(vol))\n",
    "print(\"Sharpe Ratio of Portfolio: \"+str(max_sharpe_ratio))\n",
    "print(\"MSR portfolio VaR: \"+str(portfolio.portfolio_VaR(weights)))\n",
    "print(\"MSR portfolio ES: \"+str(portfolio.portfolio_ES(weights)))\n",
    "print()"
   ]
  },
  {
   "cell_type": "code",
   "execution_count": 5,
   "id": "8dc5ee87",
   "metadata": {},
   "outputs": [
    {
     "name": "stdout",
     "output_type": "stream",
     "text": [
      "2020 election period actual annualized log returns: 0.43348952204474733\n",
      "2019 May 5 to November 17 actual annualized log returns: 0.14298679129458292\n",
      "2018 May 5 to November 17 actual annualized log returns: 0.07004978386556455\n",
      "2017 May 5 to November 17 actual annualized log returns: 0.1848545403144799\n"
     ]
    }
   ],
   "source": [
    "# Filters data to only 2020 election cycle\n",
    "portfolio.filter(startDate=\"2020-01-01\", endDate=\"2021-01-01\", period=1)\n",
    "portfolio.set_rf(get_risk_free_rate('2020-05-05'))\n",
    "# See how the calculated weights using data up to 2016 election would have worked\n",
    "# for the 2020 election\n",
    "print(\"2020 election period actual annualized log returns: \" + str(portfolio.historical_annualized_log_return(weights)))\n",
    "\n",
    "# Filters data to May 5 to November 17 of 2019 (6.5 month period of a non-election year)\n",
    "portfolio.filter(startDate=\"2019-05-05\", endDate=\"2019-11-17\", period=-1)\n",
    "portfolio.set_rf(get_risk_free_rate('2019-05-06'))\n",
    "print(\"2019 May 5 to November 17 actual annualized log returns: \" +  str(portfolio.historical_annualized_log_return(weights)))\n",
    "\n",
    "# Filters data to May 5 to November 17 of 2018 (6.5 month period of a non-election year)\n",
    "portfolio.filter(startDate=\"2018-05-05\", endDate=\"2018-11-17\", period=-1)\n",
    "portfolio.set_rf(get_risk_free_rate('2018-05-07'))\n",
    "print(\"2018 May 5 to November 17 actual annualized log returns: \" +  str(portfolio.historical_annualized_log_return(weights)))\n",
    "\n",
    "\n",
    "# Filters data to May 5 to November 17 of 2017 (6.5 month period of a non-election year)\n",
    "portfolio.filter(startDate=\"2017-05-05\", endDate=\"2017-11-17\", period=-1)\n",
    "portfolio.set_rf(get_risk_free_rate('2017-05-05'))\n",
    "print(\"2017 May 5 to November 17 actual annualized log returns: \" +  str(portfolio.historical_annualized_log_return(weights)))"
   ]
  }
 ],
 "metadata": {
  "kernelspec": {
   "display_name": "Python 3",
   "language": "python",
   "name": "python3"
  },
  "language_info": {
   "codemirror_mode": {
    "name": "ipython",
    "version": 3
   },
   "file_extension": ".py",
   "mimetype": "text/x-python",
   "name": "python",
   "nbconvert_exporter": "python",
   "pygments_lexer": "ipython3",
   "version": "3.13.0"
  }
 },
 "nbformat": 4,
 "nbformat_minor": 5
}
