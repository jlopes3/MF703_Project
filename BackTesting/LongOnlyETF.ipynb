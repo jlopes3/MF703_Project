{
 "cells": [
  {
   "cell_type": "code",
   "execution_count": 1,
   "id": "f2ec7b88-806e-4f4a-b072-e815cf42351a",
   "metadata": {},
   "outputs": [],
   "source": [
    "import pandas as pd\n",
    "import sys\n",
    "import os\n",
    "sys.path.append(os.path.abspath(\"../Instruments\"))\n",
    "import numpy as np\n",
    "from ETF import ETF\n",
    "from Future import Future\n",
    "from Treasury import Treasury\n",
    "from Portfolio import Portfolio\n",
    "from risk_free_rate import get_risk_free_rate"
   ]
  },
  {
   "cell_type": "markdown",
   "id": "a18dd9b0-6fde-4bd8-ad39-83a9941d7ff4",
   "metadata": {},
   "source": [
    "# Long  Only Portfolio With Only ETFs"
   ]
  },
  {
   "cell_type": "code",
   "execution_count": 2,
   "id": "2bf49ac7-e26c-47db-80ec-92f3f3be4e93",
   "metadata": {},
   "outputs": [],
   "source": [
    "SPY = ETF(\"SPY\")\n",
    "XLB = ETF(\"XLB\")\n",
    "XLF = ETF(\"XLF\")\n",
    "XLP = ETF(\"XLP\")\n",
    "XLY = ETF(\"XLY\")\n",
    "XLE = ETF(\"XLE\")\n",
    "XLI = ETF(\"XLI\")\n",
    "XLK = ETF(\"XLK\")\n",
    "XLU = ETF(\"XLU\")\n",
    "XLV = ETF(\"XLV\")\n",
    "\n",
    "all_etfs = [XLB, XLF, XLP, XLY, XLE, XLI, XLK, XLU, XLV]\n"
   ]
  },
  {
   "cell_type": "code",
   "execution_count": null,
   "id": "33aef08a-db50-4248-b032-0176206c663c",
   "metadata": {},
   "outputs": [
    {
     "data": {
      "image/png": "[encoded data removed]",
      "text/plain": [
       "<Figure size 640x480 with 1 Axes>"
      ]
     },
     "metadata": {},
     "output_type": "display_data"
    }
   ],
   "source": [
    "portfolio = Portfolio(all_etfs, rf = get_risk_free_rate('2008-05-06'), equity_benchmark = SPY)\n",
    "portfolio.filter(startDate=\"2008-01-01\", endDate=\"2024-01-01\", period=1)\n",
    "max_sharpe_ratio, ret, vol, weights = portfolio.max_sharpe_portfolio(n_points=100, min_weight=0, max_weight=1.0)\n",
    "portfolio.plot_ef(n_points = 100, min_weight=0, max_weight=1.0)\n"
   ]
  },
  {
   "cell_type": "code",
   "execution_count": 10,
   "id": "27c881c9-2185-47d7-a449-80ed68ab4f36",
   "metadata": {},
   "outputs": [
    {
     "name": "stdout",
     "output_type": "stream",
     "text": [
      "MSR portfolio weights: [ 0.06020607  0.06342413 -0.00391175  0.01219299  0.03901196  0.02867168\n",
      "  0.18630227  0.05457795  0.1049011  -0.5         0.01743215  0.06607656\n",
      "  0.47271115  0.0167664  -0.0153655   0.00333482 -0.03213181  0.47244846\n",
      "  0.21601314 -0.10479697 -0.16720005 -0.08904407  0.10770462 -0.00932531]\n",
      "MSR portfolio expected annualized log return: 0.07129950707867308\n",
      "MSR portfolio annualized volatility of log returns: 0.031058480953055384\n",
      "Sharpe Ratio of Portfolio: 1.7339094450997163\n",
      "MSR portfolio VaR: 0.05108665504323637\n",
      "MSR portfolio ES: 0.06406472644359278\n",
      "\n"
     ]
    }
   ],
   "source": [
    "print(\"MSR portfolio weights: \" + str(weights))\n",
    "print(\"MSR portfolio expected annualized log return: \" + str(ret))\n",
    "print(\"MSR portfolio annualized volatility of log returns: \" + str(vol))\n",
    "print(\"Sharpe Ratio of Portfolio: \"+str(max_sharpe_ratio))\n",
    "print(\"MSR portfolio VaR: \"+str(portfolio.portfolio_VaR(weights)))\n",
    "print(\"MSR portfolio ES: \"+str(portfolio.portfolio_ES(weights)))\n",
    "print()"
   ]
  },
  {
   "cell_type": "code",
   "execution_count": null,
   "id": "8dc5ee87",
   "metadata": {},
   "outputs": [
    {
     "name": "stdout",
     "output_type": "stream",
     "text": [
      "2020 election period actual annualized log returns: 0.007174945718329523\n",
      "2019 May 5 to November 17 actual annualized log returns: 0.03159994728513012\n",
      "2018 May 5 to November 17 actual annualized log returns: 0.007372088857993227\n",
      "                      XLB            XLF            XLP            XLY  \\\n",
      "           XLB Log Return XLF Log Return XLP Log Return XLY Log Return   \n",
      "2017-05-05       0.014123      -0.001676       0.002720       0.006230   \n",
      "2017-05-08      -0.008073      -0.000840      -0.000362       0.001883   \n",
      "2017-05-09      -0.007569      -0.003785      -0.003630       0.005740   \n",
      "2017-05-10       0.003224       0.003365       0.000727      -0.003418   \n",
      "2017-05-11      -0.001516      -0.006319       0.001452      -0.005981   \n",
      "...                   ...            ...            ...            ...   \n",
      "2017-11-13       0.005149       0.001533       0.005695       0.003350   \n",
      "2017-11-14      -0.009115      -0.000383       0.003474       0.000863   \n",
      "2017-11-15      -0.006065       0.002677      -0.010644      -0.004322   \n",
      "2017-11-16       0.012094       0.000382       0.013743       0.008302   \n",
      "2017-11-17       0.001373      -0.001146      -0.003464       0.004392   \n",
      "\n",
      "                      XLE            XLI            XLK            XLU  \\\n",
      "           XLE Log Return XLI Log Return XLK Log Return XLU Log Return   \n",
      "2017-05-05       0.015722       0.005094       0.003645       0.005427   \n",
      "2017-05-08       0.007106      -0.002693       0.004356      -0.000387   \n",
      "2017-05-09      -0.008295       0.001348       0.001267      -0.007376   \n",
      "2017-05-10       0.013151      -0.002097       0.003792       0.001558   \n",
      "2017-05-11      -0.002057      -0.000300      -0.001262       0.001360   \n",
      "...                   ...            ...            ...            ...   \n",
      "2017-11-13      -0.005759      -0.003383      -0.000315       0.011820   \n",
      "2017-11-14      -0.016303      -0.002686      -0.002050       0.012385   \n",
      "2017-11-15      -0.011364      -0.005680      -0.007447      -0.008654   \n",
      "2017-11-16      -0.004016       0.009354       0.013898      -0.003198   \n",
      "2017-11-17       0.004906      -0.005517      -0.006451      -0.006964   \n",
      "\n",
      "                      XLV            ES1  ...            CL1            NG1  \\\n",
      "           XLV Log Return ES1 Log Return  ... CL1 Log Return NG1 Log Return   \n",
      "2017-05-05      -0.000527       0.005122  ...       0.015261       0.024800   \n",
      "2017-05-08      -0.006206      -0.001148  ...       0.004533      -0.029204   \n",
      "2017-05-09       0.001192      -0.000731  ...      -0.011917       0.017191   \n",
      "2017-05-10      -0.002915       0.000835  ...       0.031115       0.019942   \n",
      "2017-05-11       0.000531      -0.001776  ...       0.010509       0.025196   \n",
      "...                   ...            ...  ...            ...            ...   \n",
      "2017-11-13       0.000985       0.000969  ...       0.000352      -0.014420   \n",
      "2017-11-14      -0.004068      -0.001550  ...      -0.018852      -0.020738   \n",
      "2017-11-15      -0.002846      -0.005055  ...      -0.006665      -0.007117   \n",
      "2017-11-16       0.010353       0.007767  ...      -0.003440      -0.008805   \n",
      "2017-11-17      -0.003931      -0.003391  ...       0.025250       0.014309   \n",
      "\n",
      "                      GC1            0.5            1            2  \\\n",
      "           GC1 Log Return 0.5 Log Return 1 Log Return 2 Log Return   \n",
      "2017-05-05      -0.001385            NaN          NaN          NaN   \n",
      "2017-05-08       0.000163            NaN          NaN          NaN   \n",
      "2017-05-09      -0.009005      -0.005249     0.000037     0.002412   \n",
      "2017-05-10       0.002300       0.000032     0.000139     0.000447   \n",
      "2017-05-11       0.004339       0.000031     0.000037     0.000052   \n",
      "...                   ...            ...          ...          ...   \n",
      "2017-11-13       0.003682       0.000000     0.000133    -0.000171   \n",
      "2017-11-14       0.003123       0.000000    -0.000106     0.000285   \n",
      "2017-11-15      -0.004062       0.000000     0.000094    -0.000003   \n",
      "2017-11-16       0.000391       0.000000    -0.000096    -0.000560   \n",
      "2017-11-17       0.014215       0.000000     0.000048    -0.000132   \n",
      "\n",
      "                      3            5            7            30  \n",
      "           3 Log Return 5 Log Return 7 Log Return 30 Log Return  \n",
      "2017-05-05          NaN          NaN          NaN           NaN  \n",
      "2017-05-08          NaN          NaN          NaN           NaN  \n",
      "2017-05-09     0.007321     0.019675     0.031487      0.047819  \n",
      "2017-05-10     0.000345     0.000073     0.000088      0.000885  \n",
      "2017-05-11     0.000362     0.000561     0.001425      0.002827  \n",
      "...                 ...          ...          ...           ...  \n",
      "2017-11-13    -0.000613    -0.000793    -0.000013      0.000174  \n",
      "2017-11-14     0.000439     0.000812     0.000875      0.009678  \n",
      "2017-11-15     0.000307     0.000943     0.002669      0.009730  \n",
      "2017-11-16    -0.000922    -0.001296    -0.002189     -0.006232  \n",
      "2017-11-17    -0.000068     0.000424     0.001171      0.005021  \n",
      "\n",
      "[138 rows x 24 columns]\n",
      "2017 May 5 to November 17 actual annualized log returns: 0.02578032728650595\n"
     ]
    }
   ],
   "source": [
    "# Filters data to only 2020 election cycle\n",
    "portfolio.filter(startDate=\"2020-01-01\", endDate=\"2021-01-01\", period=1)\n",
    "portfolio.set_rf(get_risk_free_rate('2020-05-05'))\n",
    "# See how the calculated weights using data up to 2016 election would have worked\n",
    "# for the 2020 election\n",
    "print(\"2020 election period actual annualized log returns: \" + str(portfolio.historical_annualized_log_return(weights)))\n",
    "\n",
    "# Filters data to May 5 to November 17 of 2019 (6.5 month period of a non-election year)\n",
    "portfolio.filter(startDate=\"2019-05-05\", endDate=\"2019-11-17\", period=-1)\n",
    "portfolio.set_rf(get_risk_free_rate('2019-05-06'))\n",
    "print(\"2019 May 5 to November 17 actual annualized log returns: \" +  str(portfolio.historical_annualized_log_return(weights)))\n",
    "\n",
    "# Filters data to May 5 to November 17 of 2018 (6.5 month period of a non-election year)\n",
    "portfolio.filter(startDate=\"2018-05-05\", endDate=\"2018-11-17\", period=-1)\n",
    "portfolio.set_rf(get_risk_free_rate('2018-05-07'))\n",
    "print(\"2018 May 5 to November 17 actual annualized log returns: \" +  str(portfolio.historical_annualized_log_return(weights)))\n",
    "\n",
    "\n",
    "# Filters data to May 5 to November 17 of 2017 (6.5 month period of a non-election year)\n",
    "portfolio.filter(startDate=\"2017-05-05\", endDate=\"2017-11-17\", period=-1)\n",
    "portfolio.set_rf(get_risk_free_rate('2017-05-05'))\n",
    "print(\"2017 May 5 to November 17 actual annualized log returns: \" +  str(portfolio.historical_annualized_log_return(weights)))"
   ]
  }
 ],
 "metadata": {
  "kernelspec": {
   "display_name": "Python 3",
   "language": "python",
   "name": "python3"
  },
  "language_info": {
   "codemirror_mode": {
    "name": "ipython",
    "version": 3
   },
   "file_extension": ".py",
   "mimetype": "text/x-python",
   "name": "python",
   "nbconvert_exporter": "python",
   "pygments_lexer": "ipython3",
   "version": "3.13.0"
  }
 },
 "nbformat": 4,
 "nbformat_minor": 5
}
