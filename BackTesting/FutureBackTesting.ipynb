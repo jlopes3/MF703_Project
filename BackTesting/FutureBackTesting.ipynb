{
 "cells": [
  {
   "cell_type": "code",
   "execution_count": 1,
   "id": "1babfa65-4cbb-4c1a-825e-bdfa67f083c8",
   "metadata": {},
   "outputs": [],
   "source": [
    "import pandas as pd\n",
    "import sys\n",
    "import os\n",
    "sys.path.append(os.path.abspath(\"../Instruments\"))\n",
    "import numpy as np\n",
    "from ETF import ETF\n",
    "from Future import Future\n",
    "from Portfolio import Portfolio\n",
    "from risk_free_rate import get_risk_free_rate"
   ]
  },
  {
   "cell_type": "markdown",
   "id": "7100a6df-a1c0-4e0e-81c4-fb338dd89715",
   "metadata": {},
   "source": [
    "# Future Only Portfolio"
   ]
  },
  {
   "cell_type": "code",
   "execution_count": 21,
   "id": "7ec8f11c-8896-434d-9dbd-97f299624bb1",
   "metadata": {},
   "outputs": [],
   "source": [
    "ES1 = Future(\"ES1\")\n",
    "DX1 = Future(\"DX1\")\n",
    "TY1 = Future(\"TY1\")\n",
    "FF1 = Future(\"FF1\")\n",
    "SI1 = Future(\"SI1\")\n",
    "CL1 = Future(\"CL1\")\n",
    "NG1 = Future(\"NG1\")\n",
    "GC1 = Future(\"GC1\")\n",
    "FF4 = Future(\"FF4\")\n",
    "etfDBC = ETF(\"DBC\")\n",
    "futurePortfolio = Portfolio([ES1,DX1,SI1,CL1,NG1,GC1,FF1,FF4,TY1],future_benchmark = etfDBC)"
   ]
  },
  {
   "cell_type": "code",
   "execution_count": 23,
   "id": "fec814cb-be00-4d54-a908-c13401ed04bf",
   "metadata": {},
   "outputs": [
    {
     "name": "stdout",
     "output_type": "stream",
     "text": [
      "Max sharpe ratio portfolio weights: [-0.05669334  0.08982251 -0.0132337  -0.06880601 -0.00882694 -0.03458676\n",
      "  0.5         0.5         0.09232423]\n",
      "Max sharpe ratio portfolio expected annualized log return: 0.027208991170948167\n",
      "Max sharpe ratio portfolio annualized volatility of log returns: 0.046600411237465056\n",
      "Sharpe Ratio of Portfolio: 0.20948479440411255\n",
      "\n"
     ]
    }
   ],
   "source": [
    "# Filter data to only election cycles up to 2016\n",
    "futurePortfolio.filter(endDate=\"2017-01-01\", period=1)\n",
    "futurePortfolio.set_rf(get_risk_free_rate('2008-05-05'))\n",
    "max_sharpe_ratio, ret, vol, weights = futurePortfolio.max_sharpe_portfolio(n_points=100)\n",
    "print(\"Max sharpe ratio portfolio weights: \" + str(weights))\n",
    "print(\"Max sharpe ratio portfolio expected annualized log return: \" + str(ret))\n",
    "print(\"Max sharpe ratio portfolio annualized volatility of log returns: \" + str(vol))\n",
    "print(\"Sharpe Ratio of Portfolio: \"+str(max_sharpe_ratio))\n",
    "print()"
   ]
  },
  {
   "cell_type": "code",
   "execution_count": 24,
   "id": "494a55b9-ee65-4dd4-a564-3014cc53a4eb",
   "metadata": {},
   "outputs": [
    {
     "name": "stdout",
     "output_type": "stream",
     "text": [
      "VaR of MSR Portfolio: 0.07665085544137454\n",
      "ES of MSR Portfolio: 0.09612326509463213\n"
     ]
    }
   ],
   "source": [
    "future_var = futurePortfolio.portfolio_VaR(weights)\n",
    "future_ES = futurePortfolio.portfolio_ES(weights)\n",
    "print(\"VaR of MSR Portfolio: \"+str(future_var))\n",
    "print(\"ES of MSR Portfolio: \"+str(future_ES))"
   ]
  },
  {
   "cell_type": "code",
   "execution_count": 25,
   "id": "7274d725-9a99-45b0-ac65-356c4f0498d2",
   "metadata": {},
   "outputs": [
    {
     "name": "stdout",
     "output_type": "stream",
     "text": [
      "2020 election period actual annualized log returns: -0.15148040754246744\n",
      "2019 May 5 to November 17 actual annualized log returns: 0.015292757456062421\n"
     ]
    },
    {
     "ename": "NameError",
     "evalue": "name 'etfPortfolio' is not defined",
     "output_type": "error",
     "traceback": [
      "\u001b[1;31m---------------------------------------------------------------------------\u001b[0m",
      "\u001b[1;31mNameError\u001b[0m                                 Traceback (most recent call last)",
      "Cell \u001b[1;32mIn[25], line 16\u001b[0m\n\u001b[0;32m     14\u001b[0m futurePortfolio\u001b[38;5;241m.\u001b[39mfilter(startDate\u001b[38;5;241m=\u001b[39m\u001b[38;5;124m\"\u001b[39m\u001b[38;5;124m2018-05-05\u001b[39m\u001b[38;5;124m\"\u001b[39m, endDate\u001b[38;5;241m=\u001b[39m\u001b[38;5;124m\"\u001b[39m\u001b[38;5;124m2018-11-17\u001b[39m\u001b[38;5;124m\"\u001b[39m, period\u001b[38;5;241m=\u001b[39m\u001b[38;5;241m-\u001b[39m\u001b[38;5;241m1\u001b[39m)\n\u001b[0;32m     15\u001b[0m futurePortfolio\u001b[38;5;241m.\u001b[39mset_rf(get_risk_free_rate(\u001b[38;5;124m'\u001b[39m\u001b[38;5;124m2018-05-07\u001b[39m\u001b[38;5;124m'\u001b[39m))\n\u001b[1;32m---> 16\u001b[0m \u001b[38;5;28mprint\u001b[39m(\u001b[38;5;124m\"\u001b[39m\u001b[38;5;124m2018 May 5 to November 17 actual annualized log returns: \u001b[39m\u001b[38;5;124m\"\u001b[39m \u001b[38;5;241m+\u001b[39m  \u001b[38;5;28mstr\u001b[39m(etfPortfolio\u001b[38;5;241m.\u001b[39mhistorical_annualized_log_return(weights)))\n\u001b[0;32m     19\u001b[0m \u001b[38;5;66;03m# Filters data to May 5 to November 17 of 2017 (6.5 month period of a non-election year)\u001b[39;00m\n\u001b[0;32m     20\u001b[0m futurePortfolio\u001b[38;5;241m.\u001b[39mfilter(startDate\u001b[38;5;241m=\u001b[39m\u001b[38;5;124m\"\u001b[39m\u001b[38;5;124m2017-05-05\u001b[39m\u001b[38;5;124m\"\u001b[39m, endDate\u001b[38;5;241m=\u001b[39m\u001b[38;5;124m\"\u001b[39m\u001b[38;5;124m2017-11-17\u001b[39m\u001b[38;5;124m\"\u001b[39m, period\u001b[38;5;241m=\u001b[39m\u001b[38;5;241m-\u001b[39m\u001b[38;5;241m1\u001b[39m)\n",
      "\u001b[1;31mNameError\u001b[0m: name 'etfPortfolio' is not defined"
     ]
    }
   ],
   "source": [
    "# Filters data to only 2020 election cycle\n",
    "futurePortfolio.filter(startDate=\"2017-01-01\", endDate=\"2021-01-01\", period=1)\n",
    "futurePortfolio.set_rf(get_risk_free_rate('2020-05-05'))\n",
    "# See how the calculated weights using data up to 2016 election would have worked\n",
    "# for the 2020 election\n",
    "print(\"2020 election period actual annualized log returns: \" + str(futurePortfolio.historical_annualized_log_return(weights)))\n",
    "\n",
    "# Filters data to May 5 to November 17 of 2019 (6.5 month period of a non-election year)\n",
    "futurePortfolio.filter(startDate=\"2019-05-05\", endDate=\"2019-11-17\", period=-1)\n",
    "futurePortfolio.set_rf(get_risk_free_rate('2019-05-06'))\n",
    "print(\"2019 May 5 to November 17 actual annualized log returns: \" +  str(futurePortfolio.historical_annualized_log_return(weights)))\n",
    "\n",
    "# Filters data to May 5 to November 17 of 2018 (6.5 month period of a non-election year)\n",
    "futurePortfolio.filter(startDate=\"2018-05-05\", endDate=\"2018-11-17\", period=-1)\n",
    "futurePortfolio.set_rf(get_risk_free_rate('2018-05-07'))\n",
    "print(\"2018 May 5 to November 17 actual annualized log returns: \" +  str(etfPortfolio.historical_annualized_log_return(weights)))\n",
    "\n",
    "\n",
    "# Filters data to May 5 to November 17 of 2017 (6.5 month period of a non-election year)\n",
    "futurePortfolio.filter(startDate=\"2017-05-05\", endDate=\"2017-11-17\", period=-1)\n",
    "futurePortfolio.set_rf(get_risk_free_rate('2017-05-05'))\n",
    "print(\"2017 May 5 to November 17 actual annualized log returns: \" +  str(etfPortfolio.historical_annualized_log_return(weights)))"
   ]
  },
  {
   "cell_type": "code",
   "execution_count": null,
   "id": "ef7736e1-2d63-4b08-9780-7df880765d86",
   "metadata": {},
   "outputs": [],
   "source": []
  }
 ],
 "metadata": {
  "kernelspec": {
   "display_name": "Python 3 (ipykernel)",
   "language": "python",
   "name": "python3"
  },
  "language_info": {
   "codemirror_mode": {
    "name": "ipython",
    "version": 3
   },
   "file_extension": ".py",
   "mimetype": "text/x-python",
   "name": "python",
   "nbconvert_exporter": "python",
   "pygments_lexer": "ipython3",
   "version": "3.12.4"
  }
 },
 "nbformat": 4,
 "nbformat_minor": 5
}
