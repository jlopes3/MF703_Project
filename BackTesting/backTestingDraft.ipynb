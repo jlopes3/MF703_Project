{
 "cells": [
  {
   "cell_type": "code",
   "execution_count": 3,
   "metadata": {},
   "outputs": [],
   "source": [
    "import pandas as pd\n",
    "import sys\n",
    "import os\n",
    "sys.path.append(os.path.abspath(\"../Instruments\"))\n",
    "import numpy as np\n",
    "from ETF import ETF\n",
    "from Future import Future\n",
    "from Portfolio import Portfolio"
   ]
  },
  {
   "cell_type": "markdown",
   "metadata": {},
   "source": [
    "# ETF ONLY PORTFOLIO\n",
    "\n",
    "risk free rates are gotten from Fama French and then annualized. They seem wrong."
   ]
  },
  {
   "cell_type": "code",
   "execution_count": 16,
   "metadata": {},
   "outputs": [],
   "source": [
    "def get_risk_free_rate(dateString):\n",
    "    df = pd.read_csv(\"../Data/TreasuryData/Cleaned-Data/cleaned_treasury_data.csv\")\n",
    "    df.rename(columns={'Unnamed: 0': 'Date'}, inplace=True)\n",
    "    df['Date'] = pd.to_datetime(df['Date'])\n",
    "    df.set_index('Date', inplace=True)\n",
    "    halfYear = df[\"1 Mo\"].to_frame()\n",
    "    rf = halfYear.loc[dateString, '1 Mo']\n",
    "    return rf"
   ]
  },
  {
   "cell_type": "code",
   "execution_count": 18,
   "metadata": {},
   "outputs": [
    {
     "name": "stdout",
     "output_type": "stream",
     "text": [
      "Max sharpe ratio portfolio weights: [ 5.00000000e-01 -5.00000000e-01  5.00000000e-01 -2.50644294e-13\n",
      "  5.00000000e-01]\n",
      "Max sharpe ratio portfolio expected annualized log return: 0.8175958738258149\n",
      "Max sharpe ratio portfolio annualized volatility of log returns: 0.1506796258713168\n",
      "\n",
      "2020 election period actual annualized log returns: 0.2453944108968062\n",
      "2019 May 5 to November 17 actual annualized log returns: 0.07347743377585228\n",
      "2018 May 5 to November 17 actual annualized log returns: 0.1633600125016979\n",
      "2017 May 5 to November 17 actual annualized log returns: -0.016914397105913796\n"
     ]
    }
   ],
   "source": [
    "etfSPY = ETF(\"SPY\")\n",
    "etfBND = ETF(\"BND\")\n",
    "etfXLF = ETF(\"XLF\")\n",
    "etfXLP = ETF(\"XLP\")\n",
    "etfVTI = ETF(\"VTI\")\n",
    "etfXLY = ETF(\"XLY\")\n",
    "etfPortfolio = Portfolio([etfBND, etfXLF, etfXLP, etfVTI, etfXLY], equity_benchmark=etfSPY)\n",
    "# Filter data to only election cycles up to 2016\n",
    "etfPortfolio.filter(endDate=\"2017-01-01\", period=1)\n",
    "etfPortfolio.set_rf(get_risk_free_rate('2008-05-05'))\n",
    "max_sharpe_ratio, ret, vol, weights = etfPortfolio.max_sharpe_portfolio(n_points=100)\n",
    "print(\"Max sharpe ratio portfolio weights: \" + str(weights))\n",
    "print(\"Max sharpe ratio portfolio expected annualized log return: \" + str(ret))\n",
    "print(\"Max sharpe ratio portfolio annualized volatility of log returns: \" + str(vol))\n",
    "print()\n",
    "\n",
    "# Filters data to only 2020 election cycle\n",
    "etfPortfolio.filter(startDate=\"2017-01-01\", endDate=\"2021-01-01\", period=1)\n",
    "etfPortfolio.set_rf(get_risk_free_rate('2020-05-05'))\n",
    "# See how the calculated weights using data up to 2016 election would have worked\n",
    "# for the 2020 election\n",
    "print(\"2020 election period actual annualized log returns: \" + str(etfPortfolio.historical_annualized_log_return(weights)))\n",
    "\n",
    "# Filters data to May 5 to November 17 of 2019 (6.5 month period of a non-election year)\n",
    "etfPortfolio.filter(startDate=\"2019-05-05\", endDate=\"2019-11-17\", period=-1)\n",
    "etfPortfolio.set_rf(get_risk_free_rate('2019-05-06'))\n",
    "print(\"2019 May 5 to November 17 actual annualized log returns: \" +  str(etfPortfolio.historical_annualized_log_return(weights)))\n",
    "\n",
    "# Filters data to May 5 to November 17 of 2018 (6.5 month period of a non-election year)\n",
    "etfPortfolio.filter(startDate=\"2018-05-05\", endDate=\"2018-11-17\", period=-1)\n",
    "etfPortfolio.set_rf(get_risk_free_rate('2018-05-07'))\n",
    "print(\"2018 May 5 to November 17 actual annualized log returns: \" +  str(etfPortfolio.historical_annualized_log_return(weights)))\n",
    "\n",
    "\n",
    "# Filters data to May 5 to November 17 of 2017 (6.5 month period of a non-election year)\n",
    "etfPortfolio.filter(startDate=\"2017-05-05\", endDate=\"2017-11-17\", period=-1)\n",
    "etfPortfolio.set_rf(get_risk_free_rate('2017-05-05'))\n",
    "print(\"2017 May 5 to November 17 actual annualized log returns: \" +  str(etfPortfolio.historical_annualized_log_return(weights)))\n"
   ]
  }
 ],
 "metadata": {
  "kernelspec": {
   "display_name": "Python 3",
   "language": "python",
   "name": "python3"
  },
  "language_info": {
   "codemirror_mode": {
    "name": "ipython",
    "version": 3
   },
   "file_extension": ".py",
   "mimetype": "text/x-python",
   "name": "python",
   "nbconvert_exporter": "python",
   "pygments_lexer": "ipython3",
   "version": "3.13.0"
  }
 },
 "nbformat": 4,
 "nbformat_minor": 2
}
