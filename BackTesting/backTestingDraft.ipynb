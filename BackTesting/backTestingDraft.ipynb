{
 "cells": [
  {
   "cell_type": "code",
   "execution_count": 1,
   "metadata": {},
   "outputs": [],
   "source": [
    "import sys\n",
    "import os\n",
    "sys.path.append(os.path.abspath(\"../Instruments\"))\n",
    "import numpy as np\n",
    "from ETF import ETF\n",
    "from Future import Future\n",
    "from Portfolio import Portfolio"
   ]
  },
  {
   "cell_type": "markdown",
   "metadata": {},
   "source": [
    "# ETF ONLY PORTFOLIO\n",
    "\n",
    "risk free rates are gotten from Fama French and then annualized. They seem wrong."
   ]
  },
  {
   "cell_type": "code",
   "execution_count": 15,
   "metadata": {},
   "outputs": [
    {
     "name": "stdout",
     "output_type": "stream",
     "text": [
      "Max sharpe ratio portfolio weights: [0.26677657 0.03171551 0.16465905 0.5        0.03684887]\n",
      "Max sharpe ratio portfolio expected annualized log return: 0.07966207743944503\n",
      "Max sharpe ratio portfolio annualized volatility of log returns: 0.18790699279403603\n",
      "\n",
      "2020 election period actual annualized log returns: 0.3449178276214767\n",
      "2019 May 5 to November 17 actual annualized log returns: 0.1092032077946106\n",
      "2018 May 5 to November 17 actual annualized log returns: 0.07281250885034897\n",
      "2017 May 5 to November 17 actual annualized log returns: 0.10179762108131117\n"
     ]
    }
   ],
   "source": [
    "\n",
    "etfSPY = ETF(\"SPY\")\n",
    "etfBND = ETF(\"BND\")\n",
    "etfXLF = ETF(\"XLF\")\n",
    "etfXLP = ETF(\"XLP\")\n",
    "etfVTI = ETF(\"VTI\")\n",
    "etfXLY = ETF(\"XLY\")\n",
    "etfPortfolio = Portfolio([etfBND, etfXLF, etfXLP, etfVTI, etfXLY], equity_benchmark=etfSPY)\n",
    "# Filter data to only election cycles up to 2016\n",
    "etfPortfolio.filter(endDate=\"2017-01-01\", period=1)\n",
    "etfPortfolio.set_rf((((1.008)**252) - 1) / 100) # Used Fama-French for 2008-05-05 and annualized\n",
    "max_sharpe_ratio, ret, vol, weights = etfPortfolio.max_sharpe_portfolio(n_points=100)\n",
    "print(\"Max sharpe ratio portfolio weights: \" + str(weights))\n",
    "print(\"Max sharpe ratio portfolio expected annualized log return: \" + str(ret))\n",
    "print(\"Max sharpe ratio portfolio annualized volatility of log returns: \" + str(vol))\n",
    "print()\n",
    "\n",
    "# Filters data to only 2020 election cycle\n",
    "etfPortfolio.filter(startDate=\"2017-01-01\", endDate=\"2021-01-01\", period=1)\n",
    "etfPortfolio.set_rf(0) # Used Fama-French for 2020-05-05 and annualized\n",
    "# See how the calculated weights using data up to 2016 election would have worked\n",
    "# for the 2020 election\n",
    "print(\"2020 election period actual annualized log returns: \" + str(etfPortfolio.historical_annualized_log_return(weights)))\n",
    "\n",
    "# Filters data to May 5 to November 17 of 2019 (6.5 month period of a non-election year)\n",
    "etfPortfolio.filter(startDate=\"2019-05-05\", endDate=\"2019-11-17\", period=-1)\n",
    "etfPortfolio.set_rf((((1.009)**252) - 1) / 100) # Used Fama-French for 2019-05-06 and annualized\n",
    "print(\"2019 May 5 to November 17 actual annualized log returns: \" +  str(etfPortfolio.historical_annualized_log_return(weights)))\n",
    "\n",
    "# Filters data to May 5 to November 17 of 2018 (6.5 month period of a non-election year)\n",
    "etfPortfolio.filter(startDate=\"2018-05-05\", endDate=\"2018-11-17\", period=-1)\n",
    "etfPortfolio.set_rf((((1.006)**252) - 1) / 100) # Used Fama-French for 2018-05-07 and annualized\n",
    "print(\"2018 May 5 to November 17 actual annualized log returns: \" +  str(etfPortfolio.historical_annualized_log_return(weights)))\n",
    "\n",
    "\n",
    "# Filters data to May 5 to November 17 of 2017 (6.5 month period of a non-election year)\n",
    "etfPortfolio.filter(startDate=\"2017-05-05\", endDate=\"2017-11-17\", period=-1)\n",
    "etfPortfolio.set_rf((((1.003)**252) - 1) / 100) # Used Fama-French for 2017-05-05 and annualized\n",
    "print(\"2017 May 5 to November 17 actual annualized log returns: \" +  str(etfPortfolio.historical_annualized_log_return(weights)))\n"
   ]
  }
 ],
 "metadata": {
  "kernelspec": {
   "display_name": "Python 3",
   "language": "python",
   "name": "python3"
  },
  "language_info": {
   "codemirror_mode": {
    "name": "ipython",
    "version": 3
   },
   "file_extension": ".py",
   "mimetype": "text/x-python",
   "name": "python",
   "nbconvert_exporter": "python",
   "pygments_lexer": "ipython3",
   "version": "3.13.0"
  }
 },
 "nbformat": 4,
 "nbformat_minor": 2
}
