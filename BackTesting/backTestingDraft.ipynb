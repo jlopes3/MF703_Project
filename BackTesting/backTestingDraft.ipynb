{
 "cells": [
  {
   "cell_type": "code",
   "execution_count": 1,
   "metadata": {},
   "outputs": [],
   "source": [
    "import pandas as pd\n",
    "import sys\n",
    "import os\n",
    "sys.path.append(os.path.abspath(\"../Instruments\"))\n",
    "import numpy as np\n",
    "from ETF import ETF\n",
    "from Future import Future\n",
    "from Portfolio import Portfolio\n",
    "from risk_free_rate import get_risk_free_rate"
   ]
  },
  {
   "cell_type": "markdown",
   "metadata": {},
   "source": [
    "# ETF ONLY PORTFOLIO\n"
   ]
  },
  {
   "cell_type": "code",
   "execution_count": 2,
   "metadata": {},
   "outputs": [
    {
     "name": "stdout",
     "output_type": "stream",
     "text": [
      "Max sharpe ratio portfolio weights: [0.05462952 0.08765589 0.05789645 0.00842792 0.08643075 0.13862997\n",
      " 0.27271968 0.10412934 0.18948048]\n",
      "Max sharpe ratio portfolio expected annualized log return: 0.08173916482838547\n",
      "Max sharpe ratio portfolio annualized volatility of log returns: 0.2619797117239372\n",
      "Sharpe Ratio of Portfolio: 0.2611963740185334\n",
      "\n"
     ]
    }
   ],
   "source": [
    "etfSPY = ETF(\"SPY\")\n",
    "etfXLB = ETF(\"XLB\")\n",
    "etfXLF = ETF(\"XLF\")\n",
    "etfXLP = ETF(\"XLP\")\n",
    "etfXLY = ETF(\"XLY\")\n",
    "etfXLE = ETF(\"XLE\")\n",
    "etfXLI = ETF(\"XLI\")\n",
    "etfXLK = ETF(\"XLK\")\n",
    "etfXLU = ETF(\"XLU\")\n",
    "etfXLV = ETF(\"XLV\")\n",
    "\n",
    "etfPortfolio = Portfolio([etfXLB, etfXLF, etfXLP, etfXLY, etfXLE, etfXLI, etfXLK, etfXLU, etfXLV], equity_benchmark=etfSPY)\n",
    "# Filter data to only election cycles up to 2016\n",
    "etfPortfolio.filter(endDate=\"2017-01-01\", period=1)\n",
    "etfPortfolio.set_rf(get_risk_free_rate('2008-05-05'))\n",
    "max_sharpe_ratio, ret, vol, weights = etfPortfolio.max_sharpe_portfolio(n_points=100)\n",
    "print(\"Max sharpe ratio portfolio weights: \" + str(weights))\n",
    "print(\"Max sharpe ratio portfolio expected annualized log return: \" + str(ret))\n",
    "print(\"Max sharpe ratio portfolio annualized volatility of log returns: \" + str(vol))\n",
    "print(\"Sharpe Ratio of Portfolio: \"+str(max_sharpe_ratio))\n",
    "print()"
   ]
  },
  {
   "cell_type": "code",
   "execution_count": 5,
   "metadata": {},
   "outputs": [
    {
     "name": "stdout",
     "output_type": "stream",
     "text": [
      "2020 election period actual annualized log returns: 0.42062018937320717\n",
      "2019 May 5 to November 17 actual annualized log returns: 0.1358545917408583\n",
      "2018 May 5 to November 17 actual annualized log returns: 0.06876060653929969\n",
      "2017 May 5 to November 17 actual annualized log returns: 0.17166261743921246\n"
     ]
    }
   ],
   "source": [
    "# Filters data to only 2020 election cycle\n",
    "etfPortfolio.filter(startDate=\"2017-01-01\", endDate=\"2021-01-01\", period=1)\n",
    "etfPortfolio.set_rf(get_risk_free_rate('2020-05-05'))\n",
    "# See how the calculated weights using data up to 2016 election would have worked\n",
    "# for the 2020 election\n",
    "print(\"2020 election period actual annualized log returns: \" + str(etfPortfolio.historical_annualized_log_return(weights)))\n",
    "\n",
    "# Filters data to May 5 to November 17 of 2019 (6.5 month period of a non-election year)\n",
    "etfPortfolio.filter(startDate=\"2019-05-05\", endDate=\"2019-11-17\", period=-1)\n",
    "etfPortfolio.set_rf(get_risk_free_rate('2019-05-06'))\n",
    "print(\"2019 May 5 to November 17 actual annualized log returns: \" +  str(etfPortfolio.historical_annualized_log_return(weights)))\n",
    "\n",
    "# Filters data to May 5 to November 17 of 2018 (6.5 month period of a non-election year)\n",
    "etfPortfolio.filter(startDate=\"2018-05-05\", endDate=\"2018-11-17\", period=-1)\n",
    "etfPortfolio.set_rf(get_risk_free_rate('2018-05-07'))\n",
    "print(\"2018 May 5 to November 17 actual annualized log returns: \" +  str(etfPortfolio.historical_annualized_log_return(weights)))\n",
    "\n",
    "\n",
    "# Filters data to May 5 to November 17 of 2017 (6.5 month period of a non-election year)\n",
    "etfPortfolio.filter(startDate=\"2017-05-05\", endDate=\"2017-11-17\", period=-1)\n",
    "etfPortfolio.set_rf(get_risk_free_rate('2017-05-05'))\n",
    "print(\"2017 May 5 to November 17 actual annualized log returns: \" +  str(etfPortfolio.historical_annualized_log_return(weights)))"
   ]
  },
  {
   "cell_type": "code",
   "execution_count": null,
   "metadata": {},
   "outputs": [],
   "source": []
  }
 ],
 "metadata": {
  "kernelspec": {
   "display_name": "Python 3 (ipykernel)",
   "language": "python",
   "name": "python3"
  },
  "language_info": {
   "codemirror_mode": {
    "name": "ipython",
    "version": 3
   },
   "file_extension": ".py",
   "mimetype": "text/x-python",
   "name": "python",
   "nbconvert_exporter": "python",
   "pygments_lexer": "ipython3",
   "version": "3.12.4"
  }
 },
 "nbformat": 4,
 "nbformat_minor": 4
}
