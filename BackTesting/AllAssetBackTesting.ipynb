{
 "cells": [
  {
   "cell_type": "code",
   "execution_count": 1,
   "id": "f2ec7b88-806e-4f4a-b072-e815cf42351a",
   "metadata": {},
   "outputs": [],
   "source": [
    "import pandas as pd\n",
    "import sys\n",
    "import os\n",
    "sys.path.append(os.path.abspath(\"../Instruments\"))\n",
    "import numpy as np\n",
    "from ETF import ETF\n",
    "from Future import Future\n",
    "from Treasury import Treasury\n",
    "from Portfolio import Portfolio\n",
    "from risk_free_rate import get_risk_free_rate"
   ]
  },
  {
   "cell_type": "markdown",
   "id": "a18dd9b0-6fde-4bd8-ad39-83a9941d7ff4",
   "metadata": {},
   "source": [
    "# Portfolio With All Collected Assets"
   ]
  },
  {
   "cell_type": "code",
   "execution_count": 20,
   "id": "2bf49ac7-e26c-47db-80ec-92f3f3be4e93",
   "metadata": {},
   "outputs": [],
   "source": [
    "etfSPY = ETF(\"SPY\")\n",
    "etfXLB = ETF(\"XLB\")\n",
    "etfXLF = ETF(\"XLF\")\n",
    "etfXLP = ETF(\"XLP\")\n",
    "etfXLY = ETF(\"XLY\")\n",
    "etfXLE = ETF(\"XLE\")\n",
    "etfXLI = ETF(\"XLI\")\n",
    "etfXLK = ETF(\"XLK\")\n",
    "etfXLU = ETF(\"XLU\")\n",
    "etfXLV = ETF(\"XLV\")\n",
    "\n",
    "ES1 = Future(\"ES1\")\n",
    "DX1 = Future(\"DX1\")\n",
    "TY1 = Future(\"TY1\")\n",
    "FF1 = Future(\"FF1\")\n",
    "SI1 = Future(\"SI1\")\n",
    "CL1 = Future(\"CL1\")\n",
    "NG1 = Future(\"NG1\")\n",
    "GC1 = Future(\"GC1\")\n",
    "FF4 = Future(\"FF4\")\n",
    "etfDBC = ETF(\"DBC\")\n",
    "\n",
    "sixMo = Treasury(\"0.5\")\n",
    "oneYr = Treasury(\"1\")\n",
    "twoYr = Treasury(\"2\")\n"
   ]
  },
  {
   "cell_type": "code",
   "execution_count": null,
   "id": "33aef08a-db50-4248-b032-0176206c663c",
   "metadata": {},
   "outputs": [],
   "source": []
  }
 ],
 "metadata": {
  "kernelspec": {
   "display_name": "Python 3 (ipykernel)",
   "language": "python",
   "name": "python3"
  },
  "language_info": {
   "codemirror_mode": {
    "name": "ipython",
    "version": 3
   },
   "file_extension": ".py",
   "mimetype": "text/x-python",
   "name": "python",
   "nbconvert_exporter": "python",
   "pygments_lexer": "ipython3",
   "version": "3.12.4"
  }
 },
 "nbformat": 4,
 "nbformat_minor": 5
}
