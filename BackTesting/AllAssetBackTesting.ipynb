{
 "cells": [
  {
   "cell_type": "code",
   "execution_count": 2,
   "id": "f2ec7b88-806e-4f4a-b072-e815cf42351a",
   "metadata": {},
   "outputs": [],
   "source": [
    "import pandas as pd\n",
    "import sys\n",
    "import os\n",
    "sys.path.append(os.path.abspath(\"../Instruments\"))\n",
    "import numpy as np\n",
    "from ETF import ETF\n",
    "from Future import Future\n",
    "from Treasury import Treasury\n",
    "from Portfolio import Portfolio\n",
    "from risk_free_rate import get_risk_free_rate"
   ]
  },
  {
   "cell_type": "markdown",
   "id": "a18dd9b0-6fde-4bd8-ad39-83a9941d7ff4",
   "metadata": {},
   "source": [
    "# Portfolio With All Collected Assets"
   ]
  },
  {
   "cell_type": "code",
   "execution_count": 4,
   "id": "2bf49ac7-e26c-47db-80ec-92f3f3be4e93",
   "metadata": {},
   "outputs": [],
   "source": [
    "SPY = ETF(\"SPY\")\n",
    "XLB = ETF(\"XLB\")\n",
    "XLF = ETF(\"XLF\")\n",
    "XLP = ETF(\"XLP\")\n",
    "XLY = ETF(\"XLY\")\n",
    "XLE = ETF(\"XLE\")\n",
    "XLI = ETF(\"XLI\")\n",
    "XLK = ETF(\"XLK\")\n",
    "XLU = ETF(\"XLU\")\n",
    "XLV = ETF(\"XLV\")\n",
    "\n",
    "ES1 = Future(\"ES1\")\n",
    "DX1 = Future(\"DX1\")\n",
    "TY1 = Future(\"TY1\")\n",
    "FF1 = Future(\"FF1\")\n",
    "SI1 = Future(\"SI1\")\n",
    "CL1 = Future(\"CL1\")\n",
    "NG1 = Future(\"NG1\")\n",
    "GC1 = Future(\"GC1\")\n",
    "FF4 = Future(\"FF4\")\n",
    "DBC = ETF(\"DBC\")\n",
    "\n",
    "sixMo = Treasury(\"0.5\")\n",
    "oneYr = Treasury(\"1\")\n",
    "twoYr = Treasury(\"2\")\n",
    "threeYr = Treasury(\"3\")\n",
    "fiveYr = Treasury(\"5\")\n",
    "sevenYr = Treasury(\"7\")\n",
    "tenYr = Treasury(\"10\")\n",
    "thirtyYr = Treasury(\"30\")\n",
    "\n",
    "all_securities = [XLB, XLF, XLP, XLY, XLE, XLI, XLK, XLU, XLV, ES1, DX1, TY1, FF1, SI1, CL1, NG1, GC1, sixMo, oneYr, twoYr, threeYr, fiveYr, sevenYr, \n",
    "                  thirtyYr]\n"
   ]
  },
  {
   "cell_type": "code",
   "execution_count": 5,
   "id": "33aef08a-db50-4248-b032-0176206c663c",
   "metadata": {},
   "outputs": [],
   "source": [
    "portfolio = Portfolio(all_securities, rf = get_risk_free_rate('2008-05-05'), equity_benchmark = SPY, future_benchmark = DBC,treasury_benchmark = tenYr)\n",
    "max_sharpe_ratio, ret, vol, weights = portfolio.max_sharpe_portfolio(n_points=100)\n",
    "\n"
   ]
  },
  {
   "cell_type": "code",
   "execution_count": 6,
   "id": "27c881c9-2185-47d7-a449-80ed68ab4f36",
   "metadata": {},
   "outputs": [
    {
     "name": "stdout",
     "output_type": "stream",
     "text": [
      "MSR portfolio weights: [ 0.04161406  0.05766098  0.03840581  0.04326933  0.065367    0.03004984\n",
      "  0.13486177  0.02413941  0.09024595 -0.49609221  0.02472285  0.09662023\n",
      "  0.5         0.00207768 -0.01586305 -0.00104048 -0.00989806  0.312617\n",
      "  0.20003758  0.01373054 -0.07227982 -0.08754769  0.01480338 -0.00750209]\n",
      "MSR portfolio expected annualized log return: 0.07127877164870354\n",
      "MSR portfolio annualized volatility of log returns: 0.027202215534394697\n",
      "Sharpe Ratio of Portfolio: 1.9789512356784837\n",
      "\n"
     ]
    }
   ],
   "source": [
    "print(\"MSR portfolio weights: \" + str(weights))\n",
    "print(\"MSR portfolio expected annualized log return: \" + str(ret))\n",
    "print(\"MSR portfolio annualized volatility of log returns: \" + str(vol))\n",
    "print(\"Sharpe Ratio of Portfolio: \"+str(max_sharpe_ratio))\n",
    "print()"
   ]
  },
  {
   "cell_type": "code",
   "execution_count": 7,
   "id": "1ad1506d-fea4-4339-a929-61ea68007a73",
   "metadata": {},
   "outputs": [
    {
     "name": "stdout",
     "output_type": "stream",
     "text": [
      "MSR portfolio VaR: 0.0447436628828648\n",
      "MSR portfolio ES: 0.05611035837537339\n"
     ]
    }
   ],
   "source": [
    "var = portfolio.portfolio_VaR(weights)\n",
    "ES = portfolio.portfolio_ES(weights)\n",
    "print(\"MSR portfolio VaR: \"+str(var))\n",
    "print(\"MSR portfolio ES: \"+str(ES))"
   ]
  },
  {
   "cell_type": "code",
   "execution_count": null,
   "id": "dc9c4ae2-f1d2-4861-8071-013a59653f29",
   "metadata": {},
   "outputs": [],
   "source": [
    "portfolio.plot_ef(n_points = 20)"
   ]
  },
  {
   "cell_type": "code",
   "execution_count": null,
   "id": "4a555765-1194-4988-bc06-739cd5d5dee0",
   "metadata": {},
   "outputs": [],
   "source": []
  }
 ],
 "metadata": {
  "kernelspec": {
   "display_name": "Python 3 (ipykernel)",
   "language": "python",
   "name": "python3"
  },
  "language_info": {
   "codemirror_mode": {
    "name": "ipython",
    "version": 3
   },
   "file_extension": ".py",
   "mimetype": "text/x-python",
   "name": "python",
   "nbconvert_exporter": "python",
   "pygments_lexer": "ipython3",
   "version": "3.12.4"
  }
 },
 "nbformat": 4,
 "nbformat_minor": 5
}
