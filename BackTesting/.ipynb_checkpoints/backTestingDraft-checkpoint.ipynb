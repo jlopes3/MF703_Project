{
 "cells": [
  {
   "cell_type": "code",
   "execution_count": 1,
   "metadata": {},
   "outputs": [],
   "source": [
    "import pandas as pd\n",
    "import sys\n",
    "import os\n",
    "sys.path.append(os.path.abspath(\"../Instruments\"))\n",
    "import numpy as np\n",
    "from ETF import ETF\n",
    "from Future import Future\n",
    "from Portfolio import Portfolio"
   ]
  },
  {
   "cell_type": "markdown",
   "metadata": {},
   "source": [
    "# ETF ONLY PORTFOLIO\n",
    "\n",
    "risk free rates are gotten from Fama French and then annualized. They seem wrong."
   ]
  },
  {
   "cell_type": "code",
   "execution_count": 3,
   "metadata": {},
   "outputs": [],
   "source": [
    "def get_risk_free_rate(dateString):\n",
    "    df = pd.read_csv(\"../Data/TreasuryData/Cleaned-Data/cleaned_treasury_data.csv\")\n",
    "    df.rename(columns={'Unnamed: 0': 'Date'}, inplace=True)\n",
    "    df['Date'] = pd.to_datetime(df['Date'])\n",
    "    df.set_index('Date', inplace=True)\n",
    "    halfYear = df[\"1 Mo\"].to_frame()\n",
    "    rf = halfYear.loc[dateString, '1 Mo']\n",
    "    return rf"
   ]
  },
  {
   "cell_type": "code",
   "execution_count": 4,
   "metadata": {},
   "outputs": [
    {
     "ename": "KeyError",
     "evalue": "\"None of [Index(['VTI Adj Close'], dtype='object')] are in the [columns]\"",
     "output_type": "error",
     "traceback": [
      "\u001b[1;31m---------------------------------------------------------------------------\u001b[0m",
      "\u001b[1;31mKeyError\u001b[0m                                  Traceback (most recent call last)",
      "Cell \u001b[1;32mIn[4], line 5\u001b[0m\n\u001b[0;32m      3\u001b[0m etfXLF \u001b[38;5;241m=\u001b[39m ETF(\u001b[38;5;124m\"\u001b[39m\u001b[38;5;124mXLF\u001b[39m\u001b[38;5;124m\"\u001b[39m)\n\u001b[0;32m      4\u001b[0m etfXLP \u001b[38;5;241m=\u001b[39m ETF(\u001b[38;5;124m\"\u001b[39m\u001b[38;5;124mXLP\u001b[39m\u001b[38;5;124m\"\u001b[39m)\n\u001b[1;32m----> 5\u001b[0m etfVTI \u001b[38;5;241m=\u001b[39m ETF(\u001b[38;5;124m\"\u001b[39m\u001b[38;5;124mVTI\u001b[39m\u001b[38;5;124m\"\u001b[39m)\n\u001b[0;32m      6\u001b[0m etfXLY \u001b[38;5;241m=\u001b[39m ETF(\u001b[38;5;124m\"\u001b[39m\u001b[38;5;124mXLY\u001b[39m\u001b[38;5;124m\"\u001b[39m)\n\u001b[0;32m      7\u001b[0m etfPortfolio \u001b[38;5;241m=\u001b[39m Portfolio([etfBND, etfXLF, etfXLP, etfVTI, etfXLY], equity_benchmark\u001b[38;5;241m=\u001b[39metfSPY)\n",
      "File \u001b[1;32m~\\OneDrive\\Desktop\\MSMFT Classes\\MF703\\MF703_Project\\Instruments\\ETF.py:29\u001b[0m, in \u001b[0;36mETF.__init__\u001b[1;34m(self, ticker)\u001b[0m\n\u001b[0;32m     27\u001b[0m \u001b[38;5;28mself\u001b[39m\u001b[38;5;241m.\u001b[39mdf \u001b[38;5;241m=\u001b[39m pd\u001b[38;5;241m.\u001b[39mread_csv(\u001b[38;5;124m\"\u001b[39m\u001b[38;5;124m../Data/ETFData/merged_cleaned_etf_data.csv\u001b[39m\u001b[38;5;124m\"\u001b[39m)\n\u001b[0;32m     28\u001b[0m \u001b[38;5;28mself\u001b[39m\u001b[38;5;241m.\u001b[39mdf[\u001b[38;5;124m'\u001b[39m\u001b[38;5;124mDate\u001b[39m\u001b[38;5;124m'\u001b[39m] \u001b[38;5;241m=\u001b[39m pd\u001b[38;5;241m.\u001b[39mto_datetime(\u001b[38;5;28mself\u001b[39m\u001b[38;5;241m.\u001b[39mdf[\u001b[38;5;124m'\u001b[39m\u001b[38;5;124mDate\u001b[39m\u001b[38;5;124m'\u001b[39m])\n\u001b[1;32m---> 29\u001b[0m \u001b[38;5;28mself\u001b[39m\u001b[38;5;241m.\u001b[39m_prices \u001b[38;5;241m=\u001b[39m \u001b[38;5;28mself\u001b[39m\u001b[38;5;241m.\u001b[39mdf\u001b[38;5;241m.\u001b[39mset_index(\u001b[38;5;124m'\u001b[39m\u001b[38;5;124mDate\u001b[39m\u001b[38;5;124m'\u001b[39m)[[ticker \u001b[38;5;241m+\u001b[39m \u001b[38;5;124m\"\u001b[39m\u001b[38;5;124m Adj Close\u001b[39m\u001b[38;5;124m\"\u001b[39m]]\n\u001b[0;32m     30\u001b[0m \u001b[38;5;28mself\u001b[39m\u001b[38;5;241m.\u001b[39mperiodCode \u001b[38;5;241m=\u001b[39m \u001b[38;5;241m0\u001b[39m\n",
      "File \u001b[1;32m~\\anaconda3\\Lib\\site-packages\\pandas\\core\\frame.py:4108\u001b[0m, in \u001b[0;36mDataFrame.__getitem__\u001b[1;34m(self, key)\u001b[0m\n\u001b[0;32m   4106\u001b[0m     \u001b[38;5;28;01mif\u001b[39;00m is_iterator(key):\n\u001b[0;32m   4107\u001b[0m         key \u001b[38;5;241m=\u001b[39m \u001b[38;5;28mlist\u001b[39m(key)\n\u001b[1;32m-> 4108\u001b[0m     indexer \u001b[38;5;241m=\u001b[39m \u001b[38;5;28mself\u001b[39m\u001b[38;5;241m.\u001b[39mcolumns\u001b[38;5;241m.\u001b[39m_get_indexer_strict(key, \u001b[38;5;124m\"\u001b[39m\u001b[38;5;124mcolumns\u001b[39m\u001b[38;5;124m\"\u001b[39m)[\u001b[38;5;241m1\u001b[39m]\n\u001b[0;32m   4110\u001b[0m \u001b[38;5;66;03m# take() does not accept boolean indexers\u001b[39;00m\n\u001b[0;32m   4111\u001b[0m \u001b[38;5;28;01mif\u001b[39;00m \u001b[38;5;28mgetattr\u001b[39m(indexer, \u001b[38;5;124m\"\u001b[39m\u001b[38;5;124mdtype\u001b[39m\u001b[38;5;124m\"\u001b[39m, \u001b[38;5;28;01mNone\u001b[39;00m) \u001b[38;5;241m==\u001b[39m \u001b[38;5;28mbool\u001b[39m:\n",
      "File \u001b[1;32m~\\anaconda3\\Lib\\site-packages\\pandas\\core\\indexes\\base.py:6200\u001b[0m, in \u001b[0;36mIndex._get_indexer_strict\u001b[1;34m(self, key, axis_name)\u001b[0m\n\u001b[0;32m   6197\u001b[0m \u001b[38;5;28;01melse\u001b[39;00m:\n\u001b[0;32m   6198\u001b[0m     keyarr, indexer, new_indexer \u001b[38;5;241m=\u001b[39m \u001b[38;5;28mself\u001b[39m\u001b[38;5;241m.\u001b[39m_reindex_non_unique(keyarr)\n\u001b[1;32m-> 6200\u001b[0m \u001b[38;5;28mself\u001b[39m\u001b[38;5;241m.\u001b[39m_raise_if_missing(keyarr, indexer, axis_name)\n\u001b[0;32m   6202\u001b[0m keyarr \u001b[38;5;241m=\u001b[39m \u001b[38;5;28mself\u001b[39m\u001b[38;5;241m.\u001b[39mtake(indexer)\n\u001b[0;32m   6203\u001b[0m \u001b[38;5;28;01mif\u001b[39;00m \u001b[38;5;28misinstance\u001b[39m(key, Index):\n\u001b[0;32m   6204\u001b[0m     \u001b[38;5;66;03m# GH 42790 - Preserve name from an Index\u001b[39;00m\n",
      "File \u001b[1;32m~\\anaconda3\\Lib\\site-packages\\pandas\\core\\indexes\\base.py:6249\u001b[0m, in \u001b[0;36mIndex._raise_if_missing\u001b[1;34m(self, key, indexer, axis_name)\u001b[0m\n\u001b[0;32m   6247\u001b[0m \u001b[38;5;28;01mif\u001b[39;00m nmissing:\n\u001b[0;32m   6248\u001b[0m     \u001b[38;5;28;01mif\u001b[39;00m nmissing \u001b[38;5;241m==\u001b[39m \u001b[38;5;28mlen\u001b[39m(indexer):\n\u001b[1;32m-> 6249\u001b[0m         \u001b[38;5;28;01mraise\u001b[39;00m \u001b[38;5;167;01mKeyError\u001b[39;00m(\u001b[38;5;124mf\u001b[39m\u001b[38;5;124m\"\u001b[39m\u001b[38;5;124mNone of [\u001b[39m\u001b[38;5;132;01m{\u001b[39;00mkey\u001b[38;5;132;01m}\u001b[39;00m\u001b[38;5;124m] are in the [\u001b[39m\u001b[38;5;132;01m{\u001b[39;00maxis_name\u001b[38;5;132;01m}\u001b[39;00m\u001b[38;5;124m]\u001b[39m\u001b[38;5;124m\"\u001b[39m)\n\u001b[0;32m   6251\u001b[0m     not_found \u001b[38;5;241m=\u001b[39m \u001b[38;5;28mlist\u001b[39m(ensure_index(key)[missing_mask\u001b[38;5;241m.\u001b[39mnonzero()[\u001b[38;5;241m0\u001b[39m]]\u001b[38;5;241m.\u001b[39munique())\n\u001b[0;32m   6252\u001b[0m     \u001b[38;5;28;01mraise\u001b[39;00m \u001b[38;5;167;01mKeyError\u001b[39;00m(\u001b[38;5;124mf\u001b[39m\u001b[38;5;124m\"\u001b[39m\u001b[38;5;132;01m{\u001b[39;00mnot_found\u001b[38;5;132;01m}\u001b[39;00m\u001b[38;5;124m not in index\u001b[39m\u001b[38;5;124m\"\u001b[39m)\n",
      "\u001b[1;31mKeyError\u001b[0m: \"None of [Index(['VTI Adj Close'], dtype='object')] are in the [columns]\""
     ]
    }
   ],
   "source": [
    "etfSPY = ETF(\"SPY\")\n",
    "etfBND = ETF(\"BND\")\n",
    "etfXLF = ETF(\"XLF\")\n",
    "etfXLP = ETF(\"XLP\")\n",
    "etfXLY = ETF(\"XLY\")\n",
    "etfPortfolio = Portfolio([etfBND, etfXLF, etfXLP, etfXLY], equity_benchmark=etfSPY)\n",
    "# Filter data to only election cycles up to 2016\n",
    "etfPortfolio.filter(endDate=\"2017-01-01\", period=1)\n",
    "etfPortfolio.set_rf(get_risk_free_rate('2008-05-05'))\n",
    "max_sharpe_ratio, ret, vol, weights = etfPortfolio.max_sharpe_portfolio(n_points=100)\n",
    "print(\"Max sharpe ratio portfolio weights: \" + str(weights))\n",
    "print(\"Max sharpe ratio portfolio expected annualized log return: \" + str(ret))\n",
    "print(\"Max sharpe ratio portfolio annualized volatility of log returns: \" + str(vol))\n",
    "print()\n",
    "\n",
    "# Filters data to only 2020 election cycle\n",
    "etfPortfolio.filter(startDate=\"2017-01-01\", endDate=\"2021-01-01\", period=1)\n",
    "etfPortfolio.set_rf(get_risk_free_rate('2020-05-05'))\n",
    "# See how the calculated weights using data up to 2016 election would have worked\n",
    "# for the 2020 election\n",
    "print(\"2020 election period actual annualized log returns: \" + str(etfPortfolio.historical_annualized_log_return(weights)))\n",
    "\n",
    "# Filters data to May 5 to November 17 of 2019 (6.5 month period of a non-election year)\n",
    "etfPortfolio.filter(startDate=\"2019-05-05\", endDate=\"2019-11-17\", period=-1)\n",
    "etfPortfolio.set_rf(get_risk_free_rate('2019-05-06'))\n",
    "print(\"2019 May 5 to November 17 actual annualized log returns: \" +  str(etfPortfolio.historical_annualized_log_return(weights)))\n",
    "\n",
    "# Filters data to May 5 to November 17 of 2018 (6.5 month period of a non-election year)\n",
    "etfPortfolio.filter(startDate=\"2018-05-05\", endDate=\"2018-11-17\", period=-1)\n",
    "etfPortfolio.set_rf(get_risk_free_rate('2018-05-07'))\n",
    "print(\"2018 May 5 to November 17 actual annualized log returns: \" +  str(etfPortfolio.historical_annualized_log_return(weights)))\n",
    "\n",
    "\n",
    "# Filters data to May 5 to November 17 of 2017 (6.5 month period of a non-election year)\n",
    "etfPortfolio.filter(startDate=\"2017-05-05\", endDate=\"2017-11-17\", period=-1)\n",
    "etfPortfolio.set_rf(get_risk_free_rate('2017-05-05'))\n",
    "print(\"2017 May 5 to November 17 actual annualized log returns: \" +  str(etfPortfolio.historical_annualized_log_return(weights)))\n"
   ]
  },
  {
   "cell_type": "code",
   "execution_count": null,
   "metadata": {},
   "outputs": [],
   "source": []
  }
 ],
 "metadata": {
  "kernelspec": {
   "display_name": "Python 3 (ipykernel)",
   "language": "python",
   "name": "python3"
  },
  "language_info": {
   "codemirror_mode": {
    "name": "ipython",
    "version": 3
   },
   "file_extension": ".py",
   "mimetype": "text/x-python",
   "name": "python",
   "nbconvert_exporter": "python",
   "pygments_lexer": "ipython3",
   "version": "3.12.4"
  }
 },
 "nbformat": 4,
 "nbformat_minor": 4
}
